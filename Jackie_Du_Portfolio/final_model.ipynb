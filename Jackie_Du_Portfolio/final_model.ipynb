{
 "cells": [
  {
   "cell_type": "code",
   "execution_count": 17,
   "id": "be75cb53-2c24-4b2a-87ad-96c2d8733411",
   "metadata": {},
   "outputs": [],
   "source": [
    "# load packages \n",
    "import pandas as pd\n",
    "import numpy as np\n",
    "import matplotlib.pyplot as plt\n",
    "import seaborn as sns\n",
    "\n",
    "from xgboost import XGBClassifier\n",
    "from sklearn.linear_model import LogisticRegression\n",
    "from sklearn.model_selection import GridSearchCV, train_test_split, StratifiedKFold, cross_val_score\n",
    "from sklearn.metrics import f1_score\n",
    "\n",
    "from imblearn.under_sampling import RandomUnderSampler\n",
    "from imblearn.over_sampling import SMOTE\n",
    "from imblearn.pipeline import Pipeline as imbPipeline\n",
    "\n",
    "import warnings\n",
    "import time\n",
    "from IPython.utils import io\n",
    "\n",
    "warnings.filterwarnings(\"ignore\")"
   ]
  },
  {
   "cell_type": "markdown",
   "id": "f5f2047c-99ce-4585-99c8-77da1257989d",
   "metadata": {},
   "source": [
    "### Prepare data for training"
   ]
  },
  {
   "cell_type": "code",
   "execution_count": 2,
   "id": "9de95379-a1a1-40ed-a511-09afdd916c6c",
   "metadata": {},
   "outputs": [],
   "source": [
    "# read in data / process data \n",
    "df = pd.read_csv('data/processed-data-02-07.csv', index_col =0)"
   ]
  },
  {
   "cell_type": "code",
   "execution_count": 3,
   "id": "b92d98f4-226a-40d4-bbf0-d85af081dd34",
   "metadata": {},
   "outputs": [],
   "source": [
    "# take out anything with wind_10m, date\n",
    "df = df.loc[:, df.columns[~df.columns.astype('str').str.contains('wind_10m')]]\n",
    "df = df.drop(columns=\"date\")"
   ]
  },
  {
   "cell_type": "code",
   "execution_count": 4,
   "id": "9778232f-2405-40ea-aeab-2e64f38cb057",
   "metadata": {},
   "outputs": [],
   "source": [
    "X = df.copy().drop(columns=[\"is_heat\"])\n",
    "y = df[\"is_heat\"]"
   ]
  },
  {
   "cell_type": "code",
   "execution_count": 5,
   "id": "56a49a0e-634a-44c3-bb24-6daa6d23599e",
   "metadata": {},
   "outputs": [],
   "source": [
    "# split into train and test \n",
    "X_train, X_test, y_train, y_test = train_test_split(X, y,\n",
    "                                                    test_size=0.2, random_state=512,\n",
    "                                                    stratify = y\n",
    "                                                   )"
   ]
  },
  {
   "cell_type": "code",
   "execution_count": 6,
   "id": "805aed98-3d1a-42d2-958a-80913b369e57",
   "metadata": {},
   "outputs": [],
   "source": [
    "X_train, X_val, y_train, y_val = train_test_split(X_train, y_train,\n",
    "                                                    test_size=0.125, random_state=512,\n",
    "                                                    stratify = y_train\n",
    "                                                   )"
   ]
  },
  {
   "cell_type": "markdown",
   "id": "36c5fd50-efe1-43a2-8c0e-094d2dd17346",
   "metadata": {},
   "source": [
    "### Select subsets"
   ]
  },
  {
   "cell_type": "code",
   "execution_count": null,
   "id": "f1f6e842-4583-42ed-acfe-55bc1d9de9c2",
   "metadata": {},
   "outputs": [],
   "source": [
    "# select a small subset of features\n",
    "\n",
    "# 36 subsets\n",
    "# hi, air temp, wbgt\n",
    "\n",
    "# only day of \n",
    "# 1-day, 3-day \n",
    "# 3 day, 5 day \n",
    "\n",
    "# just mean \n",
    "# mean, max, var\n",
    "# mean, max\n",
    "# mean, var \n",
    "\n",
    "# list of lists "
   ]
  },
  {
   "cell_type": "code",
   "execution_count": 7,
   "id": "bb374d01-ff21-4956-b120-2ca352418b01",
   "metadata": {},
   "outputs": [],
   "source": [
    "subsets= []\n",
    "cols = X_train.columns\n",
    "cols = cols[~cols.str.contains('min')]\n",
    "\n",
    "# first subset by mean / max /var\n",
    "mean_c = cols[cols.str.contains('mean')]\n",
    "mean_max_c = cols[cols.str.contains('mean|max')]\n",
    "mean_var_c = cols[cols.str.contains('mean|var')]\n",
    "\n",
    "# for each of cols, mean_c, mean_max_c, mean_var_c\n",
    "for cols_i in [cols,mean_c, mean_max_c, mean_var_c]:\n",
    "    # take out 3 or 5 lag \n",
    "    a = cols_i[~cols_i.str.contains('lag')]\n",
    "    # take out 3 lag \n",
    "    b = cols_i[~cols_i.str.contains('lag3')]\n",
    "    # take out 5 lag \n",
    "    c = cols_i[~cols_i.str.contains('lag5')]\n",
    "    for cols_j in [a, b, c]:\n",
    "        # take out air temp, wbgt\n",
    "        subsets.append(cols_j[~cols_j.str.contains('air_temp|wbgt')])\n",
    "        # take out hi, wbgt\n",
    "        subsets.append(cols_j[~cols_j.str.contains('hi|wbgt')])\n",
    "        # take out hi, air temp\n",
    "        subsets.append(cols_j[~cols_j.str.contains('hi|air_temp')])"
   ]
  },
  {
   "cell_type": "markdown",
   "id": "e5cc6614-ec7e-4ed6-aa6d-b58be5a4b4e7",
   "metadata": {},
   "source": [
    "### Cross-validation Training"
   ]
  },
  {
   "cell_type": "code",
   "execution_count": null,
   "id": "3f15abba-587c-421a-98e0-4052b6468070",
   "metadata": {},
   "outputs": [],
   "source": [
    "# for each of these subsets \n",
    "# run gridsearch cv on the models \n",
    "# for each model / resampling method option, calculate cross val score on best params \n",
    "\n",
    "# for the subset, store the avg F1 for each combination of resampling and model "
   ]
  },
  {
   "cell_type": "markdown",
   "id": "d1e20101-1724-4585-89d4-de39be00cc21",
   "metadata": {},
   "source": [
    "#### Function for storing results"
   ]
  },
  {
   "cell_type": "code",
   "execution_count": 8,
   "id": "6a0c945f-6ec5-4eac-b81f-bbe111d5a1ce",
   "metadata": {},
   "outputs": [],
   "source": [
    "def store_best_res(res_list, res, X_refit, y_refit, model, resampling_type, subset_ind, neighbors=None):\n",
    "    '''takes a grid search cv fit, calculates 5 fold cross val scores based \n",
    "    on best params fit and stores into cv_res \n",
    "    which feature subset, model, resampling, the resampling params (if app),\n",
    "    the model's best params, avg cross val F1, std cross val F1''' \n",
    "    # cross val score\n",
    "    scores = cross_val_score(res, X_refit, y_refit, scoring='f1_weighted')\n",
    "    \n",
    "    # get val score\n",
    "    val_f1 = f1_score(res.predict(X_val[subsets[subset_ind]]), y_val)\n",
    "    \n",
    "    \n",
    "    res_df = pd.DataFrame(np.array([[subset_ind, model, resampling_type, neighbors, res.best_params_, scores.mean(), scores.std(), val_f1]]),\n",
    "                            columns=[\"subset\", \"model\", \"resampling_method\", \"neighbors\", \"params\", \"mean_cv_F1_score\", \"std_cv_F1_score\", \"val_f1\"])\n",
    "    \n",
    "    return res_list.append(res_df)"
   ]
  },
  {
   "cell_type": "markdown",
   "id": "58c4ef6c-ea23-4813-a75b-d06dfe720571",
   "metadata": {},
   "source": [
    "#### Initializing things that don't need to be in for loop"
   ]
  },
  {
   "cell_type": "code",
   "execution_count": 9,
   "id": "855b88a1-47ff-4426-9452-43459b73af88",
   "metadata": {},
   "outputs": [],
   "source": [
    "# initialize stratified k fold \n",
    "folds = StratifiedKFold(n_splits=5, random_state=512, shuffle=True)\n",
    "\n",
    "# no resampling \n",
    "none_en_pipe = imbPipeline([\n",
    "    ('classifier', LogisticRegression()) \n",
    "])\n",
    "\n",
    "none_xg_pipe = imbPipeline([\n",
    "    ('classifier', XGBClassifier()) \n",
    "])\n",
    "\n",
    "# set params for steps of pipeline \n",
    "xg_param_grid = [\n",
    "    {'classifier' : [XGBClassifier()],\n",
    "    'classifier__n_estimators' : list(range(25,250,50)),\n",
    "     'classifier__max_depth' : list(range(1,4)),\n",
    "     'classifier__eta' : list(np.arange(0.1,0.5,0.2))\n",
    "    }]\n",
    "\n",
    "en_param_grid = [\n",
    "    {'classifier' : [LogisticRegression(penalty='elasticnet', solver='saga', tol = 0.01)],\n",
    "    'classifier__l1_ratio' : list(np.arange(0.1, 1., 0.2)),\n",
    "    'classifier__C': list(np.arange(0.1, 1., 0.2))}\n",
    "]"
   ]
  },
  {
   "cell_type": "code",
   "execution_count": 94,
   "id": "d552c5fd-0c57-4785-b038-43eab8867d53",
   "metadata": {},
   "outputs": [
    {
     "name": "stdout",
     "output_type": "stream",
     "text": [
      "0.1\n",
      "0.30000000000000004\n",
      "0.5000000000000001\n",
      "0.7000000000000001\n",
      "0.9000000000000001\n"
     ]
    }
   ],
   "source": [
    "for i in np.arange(0.1, 1., 0.2):\n",
    "    print(i)"
   ]
  },
  {
   "cell_type": "markdown",
   "id": "e006cdbd-bee7-4ab0-adb9-587340f646f1",
   "metadata": {},
   "source": [
    "#### for loop of training!!!"
   ]
  },
  {
   "cell_type": "code",
   "execution_count": 10,
   "id": "9048bb00-1cab-4c58-80bb-61649a0e95f6",
   "metadata": {},
   "outputs": [],
   "source": [
    "%%capture --no-display\n",
    "for i, features_j in enumerate(subsets):\n",
    "    # initialize time \n",
    "    start_time = time.time()\n",
    "    \n",
    "    # subset X for features j \n",
    "    X_train_j = X_train[features_j]\n",
    "    # initialize list to store results for each subset \n",
    "    cv_res_i = []\n",
    "    \n",
    "    ## NO RESAMPLING \n",
    "    # grid search \n",
    "    none_en_gscv = GridSearchCV(none_en_pipe, param_grid = en_param_grid, \n",
    "          cv = folds, verbose=0, scoring=\"f1_weighted\")\n",
    "    none_xg_gscv = GridSearchCV(none_xg_pipe, param_grid = xg_param_grid, \n",
    "          cv = folds, verbose=0, scoring=\"f1_weighted\")\n",
    "    # fit \n",
    "    none_en_gscv.fit(X_train_j, y_train)\n",
    "    none_xg_gscv.fit(X_train_j, y_train)\n",
    "    # store res \n",
    "    store_best_res(cv_res_i, none_en_gscv, X_train_j, y_train, 'elastic_net', 'none', i)\n",
    "    store_best_res(cv_res_i, none_xg_gscv, X_train_j, y_train, 'xgboost', 'none', i)\n",
    "    \n",
    "    print('done with no resampling of subset ', i)\n",
    "    \n",
    "\n",
    "    ## RESAMPLING \n",
    "    for smote_n in [3,5,7]:\n",
    "        # smote en\n",
    "        smote_en_pipe = imbPipeline([\n",
    "            ('over', SMOTE(sampling_strategy = 0.55, k_neighbors= smote_n)),\n",
    "            ('classifier', LogisticRegression()) \n",
    "        ])\n",
    "        # smote xg\n",
    "        smote_xg_pipe = imbPipeline([\n",
    "            ('over', SMOTE(sampling_strategy = 0.55, k_neighbors= smote_n)),\n",
    "            ('classifier', XGBClassifier()) \n",
    "        ])\n",
    "        # smote and undersampling en\n",
    "        both_en_pipe = imbPipeline([\n",
    "            ('over', SMOTE(sampling_strategy = 0.55, k_neighbors= smote_n)), \n",
    "            ('under', RandomUnderSampler()),\n",
    "            ('classifier', LogisticRegression()) \n",
    "        ])\n",
    "        # smote and undersampling xg\n",
    "        both_xg_pipe = imbPipeline([\n",
    "            ('over', SMOTE(sampling_strategy = 0.55, k_neighbors= smote_n)), \n",
    "            ('under', RandomUnderSampler()),\n",
    "            ('classifier', XGBClassifier()) \n",
    "        ])\n",
    "\n",
    "        # grid search  \n",
    "        smote_en_gscv = GridSearchCV(smote_en_pipe, param_grid = en_param_grid, \n",
    "                                 cv = folds, verbose=0, scoring=\"f1_weighted\")\n",
    "        smote_xg_gscv = GridSearchCV(smote_xg_pipe, param_grid = xg_param_grid, \n",
    "                                 cv = folds, verbose=0, scoring=\"f1_weighted\")\n",
    "        both_en_gscv = GridSearchCV(both_en_pipe, param_grid = en_param_grid, \n",
    "                                  cv = folds, verbose=0, scoring=\"f1_weighted\")\n",
    "        both_xg_gscv = GridSearchCV(both_xg_pipe, param_grid = xg_param_grid, \n",
    "                                  cv = folds, verbose=0, scoring=\"f1_weighted\")\n",
    "        \n",
    "        # fit \n",
    "        smote_en_gscv.fit(X_train_j, y_train)\n",
    "        smote_xg_gscv.fit(X_train_j, y_train)\n",
    "        both_en_gscv.fit(X_train_j, y_train)\n",
    "        both_xg_gscv.fit(X_train_j, y_train)\n",
    "        \n",
    "        store_best_res(cv_res_i, smote_en_gscv, X_train_j, y_train, 'elastic_net', 'smote', i, smote_n)\n",
    "        store_best_res(cv_res_i, smote_xg_gscv, X_train_j, y_train, 'xgboost', 'smote', i, smote_n)\n",
    "        store_best_res(cv_res_i, both_en_gscv, X_train_j, y_train, 'elastic_net', 'both', i, smote_n)\n",
    "        store_best_res(cv_res_i, both_xg_gscv, X_train_j, y_train, 'xgboost', 'both', i, smote_n)\n",
    "        \n",
    "        print('done with resampling of subset ', i, ' for neighbor ', smote_n)\n",
    "    \n",
    "    # for each subset, have list of dataframes \n",
    "    cv_res_i_df= pd.concat(cv_res_i)\n",
    "\n",
    "    # write subset to pickle\n",
    "    file_name = str(i) + '_subset_cv_res_v2.pickle'\n",
    "    cv_res_i_df.to_pickle(file_name)\n",
    "    \n",
    "    print(\"Done with subset\", str(i + 1), \"/\", len(subsets), 'in', np.round(time.time() - start_time), 'seconds')\n",
    "    "
   ]
  },
  {
   "cell_type": "markdown",
   "id": "25afc6f1-7c68-4954-999f-3c1407ef2971",
   "metadata": {},
   "source": [
    "### Final model tuning"
   ]
  },
  {
   "cell_type": "code",
   "execution_count": 11,
   "id": "e1475a79-8816-44e0-bde9-454e71e6ff44",
   "metadata": {},
   "outputs": [],
   "source": [
    "# xgboost, both resampling, 24 subsets\n",
    "\n",
    "X_train_24 = X_train[subsets[24]]"
   ]
  },
  {
   "cell_type": "code",
   "execution_count": 12,
   "id": "f93c2e89-3c59-49a3-bb8b-22d77333990e",
   "metadata": {},
   "outputs": [],
   "source": []
  },
  {
   "cell_type": "code",
   "execution_count": 183,
   "id": "b172cbdd-1958-4220-8284-2ee46fcce4b1",
   "metadata": {},
   "outputs": [],
   "source": [
    "xg_param_grid_fin = [\n",
    "    {'classifier' : [XGBClassifier()],\n",
    "    'classifier__n_estimators' : list(range(25,250,50)),\n",
    "     'classifier__max_depth' : list(range(1,4)),\n",
    "     'classifier__eta' : list(np.arange(0.1,0.5,0.2))\n",
    "    }]\n",
    "\n",
    "both_xg_gscv = GridSearchCV(both_xg_pipe, param_grid = xg_param_grid_fin, \n",
    "          cv = folds, verbose=0, scoring=\"f1_weighted\")\n",
    "\n",
    "both_xg_pipe = imbPipeline([\n",
    "    ('over', SMOTE(sampling_strategy = 0.55, k_neighbors=3)), \n",
    "    ('under', RandomUnderSampler()),\n",
    "    ('classifier', XGBClassifier()) \n",
    "])"
   ]
  },
  {
   "cell_type": "code",
   "execution_count": 184,
   "id": "b5dec2d6-5c2f-4281-b926-1b40ede19bce",
   "metadata": {},
   "outputs": [],
   "source": [
    "with io.capture_output() as captured:\n",
    "    both_xg_gscv_24 = GridSearchCV(both_xg_pipe, param_grid = xg_param_grid_fin, \n",
    "          cv = folds, verbose=0, scoring=\"f1_weighted\")\n",
    "    both_xg_gscv_24.fit(X_train_24, y_train)\n",
    "\n",
    "res_df = pd.DataFrame(both_xg_gscv_24.cv_results_)"
   ]
  },
  {
   "cell_type": "code",
   "execution_count": null,
   "id": "325f757b-91c4-40e6-a893-d5d9ab94993d",
   "metadata": {},
   "outputs": [],
   "source": [
    "# fit "
   ]
  },
  {
   "cell_type": "code",
   "execution_count": 185,
   "id": "fb441d3f-84da-4039-a85e-f724636f4512",
   "metadata": {},
   "outputs": [
    {
     "data": {
      "text/plain": [
       "0.33333333333333337"
      ]
     },
     "execution_count": 185,
     "metadata": {},
     "output_type": "execute_result"
    }
   ],
   "source": [
    "f1_score(both_xg_gscv_24.predict(X_test[subsets[24]]), y_test)"
   ]
  },
  {
   "cell_type": "code",
   "execution_count": 193,
   "id": "5f613b48-5d2b-40d7-9f88-6baf6a0d958c",
   "metadata": {},
   "outputs": [],
   "source": [
    "test_res = pd.DataFrame([both_xg_gscv_24.predict(X_test[subsets[24]]), y_test]).transpose()"
   ]
  },
  {
   "cell_type": "code",
   "execution_count": 195,
   "id": "f3a26c9a-8210-4b56-8e7c-5eff6a462fe6",
   "metadata": {},
   "outputs": [],
   "source": [
    "test_res.set_axis(['Pred', 'Test'], axis=1, inplace=True)"
   ]
  },
  {
   "cell_type": "code",
   "execution_count": 210,
   "id": "0b846e3c-4872-4146-94e8-37a3042167ea",
   "metadata": {},
   "outputs": [
    {
     "data": {
      "text/html": [
       "<div>\n",
       "<style scoped>\n",
       "    .dataframe tbody tr th:only-of-type {\n",
       "        vertical-align: middle;\n",
       "    }\n",
       "\n",
       "    .dataframe tbody tr th {\n",
       "        vertical-align: top;\n",
       "    }\n",
       "\n",
       "    .dataframe thead th {\n",
       "        text-align: right;\n",
       "    }\n",
       "</style>\n",
       "<table border=\"1\" class=\"dataframe\">\n",
       "  <thead>\n",
       "    <tr style=\"text-align: right;\">\n",
       "      <th></th>\n",
       "      <th>Pred</th>\n",
       "      <th>Test</th>\n",
       "    </tr>\n",
       "  </thead>\n",
       "  <tbody>\n",
       "    <tr>\n",
       "      <th>30</th>\n",
       "      <td>False</td>\n",
       "      <td>True</td>\n",
       "    </tr>\n",
       "    <tr>\n",
       "      <th>67</th>\n",
       "      <td>False</td>\n",
       "      <td>True</td>\n",
       "    </tr>\n",
       "    <tr>\n",
       "      <th>80</th>\n",
       "      <td>False</td>\n",
       "      <td>True</td>\n",
       "    </tr>\n",
       "    <tr>\n",
       "      <th>98</th>\n",
       "      <td>False</td>\n",
       "      <td>True</td>\n",
       "    </tr>\n",
       "    <tr>\n",
       "      <th>137</th>\n",
       "      <td>False</td>\n",
       "      <td>True</td>\n",
       "    </tr>\n",
       "    <tr>\n",
       "      <th>145</th>\n",
       "      <td>False</td>\n",
       "      <td>True</td>\n",
       "    </tr>\n",
       "    <tr>\n",
       "      <th>197</th>\n",
       "      <td>False</td>\n",
       "      <td>True</td>\n",
       "    </tr>\n",
       "    <tr>\n",
       "      <th>223</th>\n",
       "      <td>False</td>\n",
       "      <td>True</td>\n",
       "    </tr>\n",
       "    <tr>\n",
       "      <th>232</th>\n",
       "      <td>False</td>\n",
       "      <td>True</td>\n",
       "    </tr>\n",
       "    <tr>\n",
       "      <th>243</th>\n",
       "      <td>False</td>\n",
       "      <td>True</td>\n",
       "    </tr>\n",
       "    <tr>\n",
       "      <th>252</th>\n",
       "      <td>False</td>\n",
       "      <td>True</td>\n",
       "    </tr>\n",
       "    <tr>\n",
       "      <th>293</th>\n",
       "      <td>False</td>\n",
       "      <td>True</td>\n",
       "    </tr>\n",
       "    <tr>\n",
       "      <th>383</th>\n",
       "      <td>False</td>\n",
       "      <td>True</td>\n",
       "    </tr>\n",
       "    <tr>\n",
       "      <th>429</th>\n",
       "      <td>False</td>\n",
       "      <td>True</td>\n",
       "    </tr>\n",
       "    <tr>\n",
       "      <th>450</th>\n",
       "      <td>False</td>\n",
       "      <td>True</td>\n",
       "    </tr>\n",
       "    <tr>\n",
       "      <th>458</th>\n",
       "      <td>False</td>\n",
       "      <td>True</td>\n",
       "    </tr>\n",
       "    <tr>\n",
       "      <th>475</th>\n",
       "      <td>False</td>\n",
       "      <td>True</td>\n",
       "    </tr>\n",
       "    <tr>\n",
       "      <th>515</th>\n",
       "      <td>False</td>\n",
       "      <td>True</td>\n",
       "    </tr>\n",
       "  </tbody>\n",
       "</table>\n",
       "</div>"
      ],
      "text/plain": [
       "      Pred  Test\n",
       "30   False  True\n",
       "67   False  True\n",
       "80   False  True\n",
       "98   False  True\n",
       "137  False  True\n",
       "145  False  True\n",
       "197  False  True\n",
       "223  False  True\n",
       "232  False  True\n",
       "243  False  True\n",
       "252  False  True\n",
       "293  False  True\n",
       "383  False  True\n",
       "429  False  True\n",
       "450  False  True\n",
       "458  False  True\n",
       "475  False  True\n",
       "515  False  True"
      ]
     },
     "execution_count": 210,
     "metadata": {},
     "output_type": "execute_result"
    }
   ],
   "source": [
    "test_res[(test_res.Test == True) & (test_res.Pred == False)]"
   ]
  },
  {
   "cell_type": "code",
   "execution_count": 208,
   "id": "a2d7e9dc-70fb-4388-a802-00f64abd97f7",
   "metadata": {},
   "outputs": [
    {
     "data": {
      "text/html": [
       "<div>\n",
       "<style scoped>\n",
       "    .dataframe tbody tr th:only-of-type {\n",
       "        vertical-align: middle;\n",
       "    }\n",
       "\n",
       "    .dataframe tbody tr th {\n",
       "        vertical-align: top;\n",
       "    }\n",
       "\n",
       "    .dataframe thead th {\n",
       "        text-align: right;\n",
       "    }\n",
       "</style>\n",
       "<table border=\"1\" class=\"dataframe\">\n",
       "  <thead>\n",
       "    <tr style=\"text-align: right;\">\n",
       "      <th></th>\n",
       "      <th>Pred</th>\n",
       "      <th>Test</th>\n",
       "    </tr>\n",
       "  </thead>\n",
       "  <tbody>\n",
       "    <tr>\n",
       "      <th>0</th>\n",
       "      <td>False</td>\n",
       "      <td>False</td>\n",
       "    </tr>\n",
       "    <tr>\n",
       "      <th>1</th>\n",
       "      <td>False</td>\n",
       "      <td>False</td>\n",
       "    </tr>\n",
       "    <tr>\n",
       "      <th>2</th>\n",
       "      <td>False</td>\n",
       "      <td>False</td>\n",
       "    </tr>\n",
       "    <tr>\n",
       "      <th>3</th>\n",
       "      <td>False</td>\n",
       "      <td>False</td>\n",
       "    </tr>\n",
       "    <tr>\n",
       "      <th>4</th>\n",
       "      <td>False</td>\n",
       "      <td>False</td>\n",
       "    </tr>\n",
       "    <tr>\n",
       "      <th>...</th>\n",
       "      <td>...</td>\n",
       "      <td>...</td>\n",
       "    </tr>\n",
       "    <tr>\n",
       "      <th>533</th>\n",
       "      <td>False</td>\n",
       "      <td>False</td>\n",
       "    </tr>\n",
       "    <tr>\n",
       "      <th>534</th>\n",
       "      <td>False</td>\n",
       "      <td>False</td>\n",
       "    </tr>\n",
       "    <tr>\n",
       "      <th>535</th>\n",
       "      <td>False</td>\n",
       "      <td>False</td>\n",
       "    </tr>\n",
       "    <tr>\n",
       "      <th>536</th>\n",
       "      <td>False</td>\n",
       "      <td>False</td>\n",
       "    </tr>\n",
       "    <tr>\n",
       "      <th>537</th>\n",
       "      <td>False</td>\n",
       "      <td>False</td>\n",
       "    </tr>\n",
       "  </tbody>\n",
       "</table>\n",
       "<p>538 rows × 2 columns</p>\n",
       "</div>"
      ],
      "text/plain": [
       "      Pred   Test\n",
       "0    False  False\n",
       "1    False  False\n",
       "2    False  False\n",
       "3    False  False\n",
       "4    False  False\n",
       "..     ...    ...\n",
       "533  False  False\n",
       "534  False  False\n",
       "535  False  False\n",
       "536  False  False\n",
       "537  False  False\n",
       "\n",
       "[538 rows x 2 columns]"
      ]
     },
     "execution_count": 208,
     "metadata": {},
     "output_type": "execute_result"
    }
   ],
   "source": [
    "test_res"
   ]
  },
  {
   "cell_type": "code",
   "execution_count": 201,
   "id": "dfe2d509-c21d-497e-89ec-941903524b0f",
   "metadata": {},
   "outputs": [],
   "source": [
    "from sklearn.metrics import precision_score\n",
    "from sklearn.metrics import recall_score"
   ]
  },
  {
   "cell_type": "code",
   "execution_count": 200,
   "id": "0551304d-b0f5-42a6-b602-92eacbc38826",
   "metadata": {},
   "outputs": [
    {
     "data": {
      "text/plain": [
       "0.4375"
      ]
     },
     "execution_count": 200,
     "metadata": {},
     "output_type": "execute_result"
    }
   ],
   "source": [
    "precision_score(both_xg_gscv_24.predict(X_test[subsets[24]]), y_test)"
   ]
  },
  {
   "cell_type": "code",
   "execution_count": 202,
   "id": "d8b5ae4d-bc78-4464-9ca0-6fb9a21f8e2c",
   "metadata": {},
   "outputs": [
    {
     "data": {
      "text/plain": [
       "0.2692307692307692"
      ]
     },
     "execution_count": 202,
     "metadata": {},
     "output_type": "execute_result"
    }
   ],
   "source": [
    "recall_score(both_xg_gscv_24.predict(X_test[subsets[24]]), y_test)"
   ]
  },
  {
   "cell_type": "markdown",
   "id": "3b31d2f7-4d30-4e33-b53d-0d7a6eef0686",
   "metadata": {},
   "source": [
    "### Variable Importance"
   ]
  },
  {
   "cell_type": "code",
   "execution_count": 84,
   "id": "27953647-58f4-411b-a945-b2f26108b5dd",
   "metadata": {},
   "outputs": [
    {
     "data": {
      "text/plain": [
       "array([0.02320521, 0.00985167, 0.01127513, 0.01057116, 0.0192065 ,\n",
       "       0.03158407, 0.02694784, 0.03577646, 0.0078123 , 0.01034684,\n",
       "       0.04094853, 0.23570737, 0.02009195, 0.00795735, 0.03633111,\n",
       "       0.01029662, 0.01115976, 0.00537004, 0.01101649, 0.03145896,\n",
       "       0.0300949 , 0.02381802, 0.02258407, 0.01232435, 0.02268232,\n",
       "       0.02747469, 0.06085398, 0.03582096, 0.02135386, 0.05313914,\n",
       "       0.01398159, 0.02991756, 0.00926814, 0.01255548, 0.00790122,\n",
       "       0.01931436], dtype=float32)"
      ]
     },
     "execution_count": 84,
     "metadata": {},
     "output_type": "execute_result"
    }
   ],
   "source": [
    "# feature importance of tuned on train \n",
    "best_model_fi_df = pd.concat([pd.DataFrame(subsets[24]), \n",
    "                              pd.DataFrame(ss.rankdata(both_xg_gscv_24.best_estimator_.named_steps[\"classifier\"].feature_importances_))], axis=1)\n",
    "best_model_fi_df.set_axis(['var', 'fi'], axis=1, inplace=True)"
   ]
  },
  {
   "cell_type": "code",
   "execution_count": 90,
   "id": "9b9c13ba-ef80-45fa-b66a-d1f7a9a8cc29",
   "metadata": {},
   "outputs": [
    {
     "data": {
      "text/html": [
       "<div>\n",
       "<style scoped>\n",
       "    .dataframe tbody tr th:only-of-type {\n",
       "        vertical-align: middle;\n",
       "    }\n",
       "\n",
       "    .dataframe tbody tr th {\n",
       "        vertical-align: top;\n",
       "    }\n",
       "\n",
       "    .dataframe thead th {\n",
       "        text-align: right;\n",
       "    }\n",
       "</style>\n",
       "<table border=\"1\" class=\"dataframe\">\n",
       "  <thead>\n",
       "    <tr style=\"text-align: right;\">\n",
       "      <th></th>\n",
       "      <th>var</th>\n",
       "      <th>fi</th>\n",
       "    </tr>\n",
       "  </thead>\n",
       "  <tbody>\n",
       "    <tr>\n",
       "      <th>17</th>\n",
       "      <td>lag3_hi_max</td>\n",
       "      <td>1.0</td>\n",
       "    </tr>\n",
       "    <tr>\n",
       "      <th>8</th>\n",
       "      <td>dewpoint_mean</td>\n",
       "      <td>2.0</td>\n",
       "    </tr>\n",
       "    <tr>\n",
       "      <th>34</th>\n",
       "      <td>lag5_wind_2m_mean</td>\n",
       "      <td>3.0</td>\n",
       "    </tr>\n",
       "    <tr>\n",
       "      <th>13</th>\n",
       "      <td>lag3_solar_max</td>\n",
       "      <td>4.0</td>\n",
       "    </tr>\n",
       "    <tr>\n",
       "      <th>32</th>\n",
       "      <td>lag5_dewpoint_mean</td>\n",
       "      <td>5.0</td>\n",
       "    </tr>\n",
       "    <tr>\n",
       "      <th>1</th>\n",
       "      <td>solar_max</td>\n",
       "      <td>6.0</td>\n",
       "    </tr>\n",
       "    <tr>\n",
       "      <th>15</th>\n",
       "      <td>lag3_humidity_max</td>\n",
       "      <td>7.0</td>\n",
       "    </tr>\n",
       "    <tr>\n",
       "      <th>9</th>\n",
       "      <td>humidity_mean</td>\n",
       "      <td>8.0</td>\n",
       "    </tr>\n",
       "    <tr>\n",
       "      <th>3</th>\n",
       "      <td>humidity_max</td>\n",
       "      <td>9.0</td>\n",
       "    </tr>\n",
       "    <tr>\n",
       "      <th>18</th>\n",
       "      <td>lag3_pressure_mean</td>\n",
       "      <td>10.0</td>\n",
       "    </tr>\n",
       "    <tr>\n",
       "      <th>16</th>\n",
       "      <td>lag3_wind_2m_max</td>\n",
       "      <td>11.0</td>\n",
       "    </tr>\n",
       "    <tr>\n",
       "      <th>2</th>\n",
       "      <td>dewpoint_max</td>\n",
       "      <td>12.0</td>\n",
       "    </tr>\n",
       "    <tr>\n",
       "      <th>23</th>\n",
       "      <td>lag3_hi_mean</td>\n",
       "      <td>13.0</td>\n",
       "    </tr>\n",
       "    <tr>\n",
       "      <th>33</th>\n",
       "      <td>lag5_humidity_mean</td>\n",
       "      <td>14.0</td>\n",
       "    </tr>\n",
       "    <tr>\n",
       "      <th>30</th>\n",
       "      <td>lag5_pressure_mean</td>\n",
       "      <td>15.0</td>\n",
       "    </tr>\n",
       "    <tr>\n",
       "      <th>4</th>\n",
       "      <td>wind_2m_max</td>\n",
       "      <td>16.0</td>\n",
       "    </tr>\n",
       "    <tr>\n",
       "      <th>35</th>\n",
       "      <td>lag5_hi_mean</td>\n",
       "      <td>17.0</td>\n",
       "    </tr>\n",
       "    <tr>\n",
       "      <th>12</th>\n",
       "      <td>lag3_pressure_max</td>\n",
       "      <td>18.0</td>\n",
       "    </tr>\n",
       "    <tr>\n",
       "      <th>28</th>\n",
       "      <td>lag5_wind_2m_max</td>\n",
       "      <td>19.0</td>\n",
       "    </tr>\n",
       "    <tr>\n",
       "      <th>22</th>\n",
       "      <td>lag3_wind_2m_mean</td>\n",
       "      <td>20.0</td>\n",
       "    </tr>\n",
       "    <tr>\n",
       "      <th>24</th>\n",
       "      <td>lag5_pressure_max</td>\n",
       "      <td>21.0</td>\n",
       "    </tr>\n",
       "    <tr>\n",
       "      <th>0</th>\n",
       "      <td>pressure_max</td>\n",
       "      <td>22.0</td>\n",
       "    </tr>\n",
       "    <tr>\n",
       "      <th>21</th>\n",
       "      <td>lag3_humidity_mean</td>\n",
       "      <td>23.0</td>\n",
       "    </tr>\n",
       "    <tr>\n",
       "      <th>6</th>\n",
       "      <td>pressure_mean</td>\n",
       "      <td>24.0</td>\n",
       "    </tr>\n",
       "    <tr>\n",
       "      <th>25</th>\n",
       "      <td>lag5_solar_max</td>\n",
       "      <td>25.0</td>\n",
       "    </tr>\n",
       "    <tr>\n",
       "      <th>31</th>\n",
       "      <td>lag5_solar_mean</td>\n",
       "      <td>26.0</td>\n",
       "    </tr>\n",
       "    <tr>\n",
       "      <th>20</th>\n",
       "      <td>lag3_dewpoint_mean</td>\n",
       "      <td>27.0</td>\n",
       "    </tr>\n",
       "    <tr>\n",
       "      <th>19</th>\n",
       "      <td>lag3_solar_mean</td>\n",
       "      <td>28.0</td>\n",
       "    </tr>\n",
       "    <tr>\n",
       "      <th>5</th>\n",
       "      <td>hi_max</td>\n",
       "      <td>29.0</td>\n",
       "    </tr>\n",
       "    <tr>\n",
       "      <th>7</th>\n",
       "      <td>solar_mean</td>\n",
       "      <td>30.0</td>\n",
       "    </tr>\n",
       "    <tr>\n",
       "      <th>27</th>\n",
       "      <td>lag5_humidity_max</td>\n",
       "      <td>31.0</td>\n",
       "    </tr>\n",
       "    <tr>\n",
       "      <th>14</th>\n",
       "      <td>lag3_dewpoint_max</td>\n",
       "      <td>32.0</td>\n",
       "    </tr>\n",
       "    <tr>\n",
       "      <th>10</th>\n",
       "      <td>wind_2m_mean</td>\n",
       "      <td>33.0</td>\n",
       "    </tr>\n",
       "    <tr>\n",
       "      <th>29</th>\n",
       "      <td>lag5_hi_max</td>\n",
       "      <td>34.0</td>\n",
       "    </tr>\n",
       "    <tr>\n",
       "      <th>26</th>\n",
       "      <td>lag5_dewpoint_max</td>\n",
       "      <td>35.0</td>\n",
       "    </tr>\n",
       "    <tr>\n",
       "      <th>11</th>\n",
       "      <td>hi_mean</td>\n",
       "      <td>36.0</td>\n",
       "    </tr>\n",
       "  </tbody>\n",
       "</table>\n",
       "</div>"
      ],
      "text/plain": [
       "                   var    fi\n",
       "17         lag3_hi_max   1.0\n",
       "8        dewpoint_mean   2.0\n",
       "34   lag5_wind_2m_mean   3.0\n",
       "13      lag3_solar_max   4.0\n",
       "32  lag5_dewpoint_mean   5.0\n",
       "1            solar_max   6.0\n",
       "15   lag3_humidity_max   7.0\n",
       "9        humidity_mean   8.0\n",
       "3         humidity_max   9.0\n",
       "18  lag3_pressure_mean  10.0\n",
       "16    lag3_wind_2m_max  11.0\n",
       "2         dewpoint_max  12.0\n",
       "23        lag3_hi_mean  13.0\n",
       "33  lag5_humidity_mean  14.0\n",
       "30  lag5_pressure_mean  15.0\n",
       "4          wind_2m_max  16.0\n",
       "35        lag5_hi_mean  17.0\n",
       "12   lag3_pressure_max  18.0\n",
       "28    lag5_wind_2m_max  19.0\n",
       "22   lag3_wind_2m_mean  20.0\n",
       "24   lag5_pressure_max  21.0\n",
       "0         pressure_max  22.0\n",
       "21  lag3_humidity_mean  23.0\n",
       "6        pressure_mean  24.0\n",
       "25      lag5_solar_max  25.0\n",
       "31     lag5_solar_mean  26.0\n",
       "20  lag3_dewpoint_mean  27.0\n",
       "19     lag3_solar_mean  28.0\n",
       "5               hi_max  29.0\n",
       "7           solar_mean  30.0\n",
       "27   lag5_humidity_max  31.0\n",
       "14   lag3_dewpoint_max  32.0\n",
       "10        wind_2m_mean  33.0\n",
       "29         lag5_hi_max  34.0\n",
       "26   lag5_dewpoint_max  35.0\n",
       "11             hi_mean  36.0"
      ]
     },
     "execution_count": 90,
     "metadata": {},
     "output_type": "execute_result"
    }
   ],
   "source": [
    "best_model_fi_df.sort_values('fi')"
   ]
  },
  {
   "cell_type": "code",
   "execution_count": 28,
   "id": "c2be3880-9998-4cab-ae24-579cf7deddc3",
   "metadata": {},
   "outputs": [
    {
     "data": {
      "text/plain": [
       "{'classifier': XGBClassifier(base_score=None, booster=None, colsample_bylevel=None,\n",
       "               colsample_bynode=None, colsample_bytree=None,\n",
       "               enable_categorical=False, eta=0.30000000000000004, gamma=None,\n",
       "               gpu_id=None, importance_type=None, interaction_constraints=None,\n",
       "               learning_rate=None, max_delta_step=None, max_depth=3,\n",
       "               min_child_weight=None, missing=nan, monotone_constraints=None,\n",
       "               n_estimators=225, n_jobs=None, num_parallel_tree=None,\n",
       "               predictor=None, random_state=None, reg_alpha=None,\n",
       "               reg_lambda=None, scale_pos_weight=None, subsample=None,\n",
       "               tree_method=None, validate_parameters=None, verbosity=None),\n",
       " 'classifier__eta': 0.30000000000000004,\n",
       " 'classifier__max_depth': 3,\n",
       " 'classifier__n_estimators': 225}"
      ]
     },
     "execution_count": 28,
     "metadata": {},
     "output_type": "execute_result"
    }
   ],
   "source": [
    "both_xg_gscv_24.best_params_"
   ]
  },
  {
   "cell_type": "code",
   "execution_count": 136,
   "id": "0a1a3f3a-c634-40c4-b3b2-9f2d0317079c",
   "metadata": {},
   "outputs": [],
   "source": [
    "# for each of 10 folds, store feature importance score \n",
    "xgb_fi = XGBClassifier(eta=0.30000000000000004, max_depth=3, n_estimators=225)\n",
    "fis = []\n",
    "\n",
    "sm_fin = SMOTE(sampling_strategy = 0.55, k_neighbors= 5)\n",
    "under_fin = RandomUnderSampler()"
   ]
  },
  {
   "cell_type": "code",
   "execution_count": 144,
   "id": "005366ae-8bfd-4d97-85f7-f78782fce67c",
   "metadata": {},
   "outputs": [],
   "source": [
    "fis = []"
   ]
  },
  {
   "cell_type": "code",
   "execution_count": 145,
   "id": "7823cfbd-30b4-4195-9c25-f0083d89a382",
   "metadata": {},
   "outputs": [
    {
     "ename": "KeyboardInterrupt",
     "evalue": "",
     "output_type": "error",
     "traceback": [
      "\u001b[0;31m---------------------------------------------------------------------------\u001b[0m",
      "\u001b[0;31mKeyboardInterrupt\u001b[0m                         Traceback (most recent call last)",
      "\u001b[0;32m/var/folders/m0/2bl0vf4s0wl7zrt8t6p15nkr0000gp/T/ipykernel_59146/3663600716.py\u001b[0m in \u001b[0;36m<module>\u001b[0;34m\u001b[0m\n\u001b[1;32m     13\u001b[0m         \u001b[0mX_sm\u001b[0m\u001b[0;34m,\u001b[0m \u001b[0my_sm\u001b[0m \u001b[0;34m=\u001b[0m \u001b[0msm_fin\u001b[0m\u001b[0;34m.\u001b[0m\u001b[0mfit_resample\u001b[0m\u001b[0;34m(\u001b[0m\u001b[0mX_i\u001b[0m\u001b[0;34m,\u001b[0m \u001b[0my_i\u001b[0m\u001b[0;34m)\u001b[0m\u001b[0;34m\u001b[0m\u001b[0;34m\u001b[0m\u001b[0m\n\u001b[1;32m     14\u001b[0m         \u001b[0mX_both\u001b[0m\u001b[0;34m,\u001b[0m \u001b[0my_both\u001b[0m \u001b[0;34m=\u001b[0m \u001b[0munder_fin\u001b[0m\u001b[0;34m.\u001b[0m\u001b[0mfit_resample\u001b[0m\u001b[0;34m(\u001b[0m\u001b[0mX_sm\u001b[0m\u001b[0;34m,\u001b[0m \u001b[0my_sm\u001b[0m\u001b[0;34m)\u001b[0m\u001b[0;34m\u001b[0m\u001b[0;34m\u001b[0m\u001b[0m\n\u001b[0;32m---> 15\u001b[0;31m         \u001b[0mxgb_fi\u001b[0m\u001b[0;34m.\u001b[0m\u001b[0mfit\u001b[0m\u001b[0;34m(\u001b[0m\u001b[0mX_both\u001b[0m\u001b[0;34m,\u001b[0m \u001b[0my_both\u001b[0m\u001b[0;34m)\u001b[0m\u001b[0;34m\u001b[0m\u001b[0;34m\u001b[0m\u001b[0m\n\u001b[0m\u001b[1;32m     16\u001b[0m \u001b[0;34m\u001b[0m\u001b[0m\n\u001b[1;32m     17\u001b[0m         \u001b[0;31m# get feature importances\u001b[0m\u001b[0;34m\u001b[0m\u001b[0;34m\u001b[0m\u001b[0m\n",
      "\u001b[0;32m~/opt/anaconda3/lib/python3.9/site-packages/xgboost/core.py\u001b[0m in \u001b[0;36minner_f\u001b[0;34m(*args, **kwargs)\u001b[0m\n\u001b[1;32m    504\u001b[0m         \u001b[0;32mfor\u001b[0m \u001b[0mk\u001b[0m\u001b[0;34m,\u001b[0m \u001b[0marg\u001b[0m \u001b[0;32min\u001b[0m \u001b[0mzip\u001b[0m\u001b[0;34m(\u001b[0m\u001b[0msig\u001b[0m\u001b[0;34m.\u001b[0m\u001b[0mparameters\u001b[0m\u001b[0;34m,\u001b[0m \u001b[0margs\u001b[0m\u001b[0;34m)\u001b[0m\u001b[0;34m:\u001b[0m\u001b[0;34m\u001b[0m\u001b[0;34m\u001b[0m\u001b[0m\n\u001b[1;32m    505\u001b[0m             \u001b[0mkwargs\u001b[0m\u001b[0;34m[\u001b[0m\u001b[0mk\u001b[0m\u001b[0;34m]\u001b[0m \u001b[0;34m=\u001b[0m \u001b[0marg\u001b[0m\u001b[0;34m\u001b[0m\u001b[0;34m\u001b[0m\u001b[0m\n\u001b[0;32m--> 506\u001b[0;31m         \u001b[0;32mreturn\u001b[0m \u001b[0mf\u001b[0m\u001b[0;34m(\u001b[0m\u001b[0;34m**\u001b[0m\u001b[0mkwargs\u001b[0m\u001b[0;34m)\u001b[0m\u001b[0;34m\u001b[0m\u001b[0;34m\u001b[0m\u001b[0m\n\u001b[0m\u001b[1;32m    507\u001b[0m \u001b[0;34m\u001b[0m\u001b[0m\n\u001b[1;32m    508\u001b[0m     \u001b[0;32mreturn\u001b[0m \u001b[0minner_f\u001b[0m\u001b[0;34m\u001b[0m\u001b[0;34m\u001b[0m\u001b[0m\n",
      "\u001b[0;32m~/opt/anaconda3/lib/python3.9/site-packages/xgboost/sklearn.py\u001b[0m in \u001b[0;36mfit\u001b[0;34m(self, X, y, sample_weight, base_margin, eval_set, eval_metric, early_stopping_rounds, verbose, xgb_model, sample_weight_eval_set, base_margin_eval_set, feature_weights, callbacks)\u001b[0m\n\u001b[1;32m   1248\u001b[0m         )\n\u001b[1;32m   1249\u001b[0m \u001b[0;34m\u001b[0m\u001b[0m\n\u001b[0;32m-> 1250\u001b[0;31m         self._Booster = train(\n\u001b[0m\u001b[1;32m   1251\u001b[0m             \u001b[0mparams\u001b[0m\u001b[0;34m,\u001b[0m\u001b[0;34m\u001b[0m\u001b[0;34m\u001b[0m\u001b[0m\n\u001b[1;32m   1252\u001b[0m             \u001b[0mtrain_dmatrix\u001b[0m\u001b[0;34m,\u001b[0m\u001b[0;34m\u001b[0m\u001b[0;34m\u001b[0m\u001b[0m\n",
      "\u001b[0;32m~/opt/anaconda3/lib/python3.9/site-packages/xgboost/training.py\u001b[0m in \u001b[0;36mtrain\u001b[0;34m(params, dtrain, num_boost_round, evals, obj, feval, maximize, early_stopping_rounds, evals_result, verbose_eval, xgb_model, callbacks)\u001b[0m\n\u001b[1;32m    186\u001b[0m     \u001b[0mBooster\u001b[0m \u001b[0;34m:\u001b[0m \u001b[0ma\u001b[0m \u001b[0mtrained\u001b[0m \u001b[0mbooster\u001b[0m \u001b[0mmodel\u001b[0m\u001b[0;34m\u001b[0m\u001b[0;34m\u001b[0m\u001b[0m\n\u001b[1;32m    187\u001b[0m     \"\"\"\n\u001b[0;32m--> 188\u001b[0;31m     bst = _train_internal(params, dtrain,\n\u001b[0m\u001b[1;32m    189\u001b[0m                           \u001b[0mnum_boost_round\u001b[0m\u001b[0;34m=\u001b[0m\u001b[0mnum_boost_round\u001b[0m\u001b[0;34m,\u001b[0m\u001b[0;34m\u001b[0m\u001b[0;34m\u001b[0m\u001b[0m\n\u001b[1;32m    190\u001b[0m                           \u001b[0mevals\u001b[0m\u001b[0;34m=\u001b[0m\u001b[0mevals\u001b[0m\u001b[0;34m,\u001b[0m\u001b[0;34m\u001b[0m\u001b[0;34m\u001b[0m\u001b[0m\n",
      "\u001b[0;32m~/opt/anaconda3/lib/python3.9/site-packages/xgboost/training.py\u001b[0m in \u001b[0;36m_train_internal\u001b[0;34m(params, dtrain, num_boost_round, evals, obj, feval, xgb_model, callbacks, evals_result, maximize, verbose_eval, early_stopping_rounds)\u001b[0m\n\u001b[1;32m     79\u001b[0m         \u001b[0;32mif\u001b[0m \u001b[0mcallbacks\u001b[0m\u001b[0;34m.\u001b[0m\u001b[0mbefore_iteration\u001b[0m\u001b[0;34m(\u001b[0m\u001b[0mbst\u001b[0m\u001b[0;34m,\u001b[0m \u001b[0mi\u001b[0m\u001b[0;34m,\u001b[0m \u001b[0mdtrain\u001b[0m\u001b[0;34m,\u001b[0m \u001b[0mevals\u001b[0m\u001b[0;34m)\u001b[0m\u001b[0;34m:\u001b[0m\u001b[0;34m\u001b[0m\u001b[0;34m\u001b[0m\u001b[0m\n\u001b[1;32m     80\u001b[0m             \u001b[0;32mbreak\u001b[0m\u001b[0;34m\u001b[0m\u001b[0;34m\u001b[0m\u001b[0m\n\u001b[0;32m---> 81\u001b[0;31m         \u001b[0mbst\u001b[0m\u001b[0;34m.\u001b[0m\u001b[0mupdate\u001b[0m\u001b[0;34m(\u001b[0m\u001b[0mdtrain\u001b[0m\u001b[0;34m,\u001b[0m \u001b[0mi\u001b[0m\u001b[0;34m,\u001b[0m \u001b[0mobj\u001b[0m\u001b[0;34m)\u001b[0m\u001b[0;34m\u001b[0m\u001b[0;34m\u001b[0m\u001b[0m\n\u001b[0m\u001b[1;32m     82\u001b[0m         \u001b[0;32mif\u001b[0m \u001b[0mcallbacks\u001b[0m\u001b[0;34m.\u001b[0m\u001b[0mafter_iteration\u001b[0m\u001b[0;34m(\u001b[0m\u001b[0mbst\u001b[0m\u001b[0;34m,\u001b[0m \u001b[0mi\u001b[0m\u001b[0;34m,\u001b[0m \u001b[0mdtrain\u001b[0m\u001b[0;34m,\u001b[0m \u001b[0mevals\u001b[0m\u001b[0;34m)\u001b[0m\u001b[0;34m:\u001b[0m\u001b[0;34m\u001b[0m\u001b[0;34m\u001b[0m\u001b[0m\n\u001b[1;32m     83\u001b[0m             \u001b[0;32mbreak\u001b[0m\u001b[0;34m\u001b[0m\u001b[0;34m\u001b[0m\u001b[0m\n",
      "\u001b[0;32m~/opt/anaconda3/lib/python3.9/site-packages/xgboost/core.py\u001b[0m in \u001b[0;36mupdate\u001b[0;34m(self, dtrain, iteration, fobj)\u001b[0m\n\u001b[1;32m   1678\u001b[0m \u001b[0;34m\u001b[0m\u001b[0m\n\u001b[1;32m   1679\u001b[0m         \u001b[0;32mif\u001b[0m \u001b[0mfobj\u001b[0m \u001b[0;32mis\u001b[0m \u001b[0;32mNone\u001b[0m\u001b[0;34m:\u001b[0m\u001b[0;34m\u001b[0m\u001b[0;34m\u001b[0m\u001b[0m\n\u001b[0;32m-> 1680\u001b[0;31m             _check_call(_LIB.XGBoosterUpdateOneIter(self.handle,\n\u001b[0m\u001b[1;32m   1681\u001b[0m                                                     \u001b[0mctypes\u001b[0m\u001b[0;34m.\u001b[0m\u001b[0mc_int\u001b[0m\u001b[0;34m(\u001b[0m\u001b[0miteration\u001b[0m\u001b[0;34m)\u001b[0m\u001b[0;34m,\u001b[0m\u001b[0;34m\u001b[0m\u001b[0;34m\u001b[0m\u001b[0m\n\u001b[1;32m   1682\u001b[0m                                                     dtrain.handle))\n",
      "\u001b[0;31mKeyboardInterrupt\u001b[0m: "
     ]
    }
   ],
   "source": [
    "with io.capture_output() as captured:\n",
    "    size = np.round(0.8 * X_train_24.shape[0]).astype('int')\n",
    "    samp_range = np.arange(X_train_24.shape[0])\n",
    "    # for each of 10 folds \n",
    "    for i in range(10000):\n",
    "        # sample 80% of data \n",
    "        inds = np.random.choice(samp_range, size=size, replace=False)\n",
    "        # subset on the fold \n",
    "        X_i = X_train_24.iloc[inds]\n",
    "        y_i = y_train.iloc[inds]\n",
    "        \n",
    "        # fit on best \n",
    "        X_sm, y_sm = sm_fin.fit_resample(X_i, y_i)\n",
    "        X_both, y_both = under_fin.fit_resample(X_sm, y_sm)\n",
    "        xgb_fi.fit(X_both, y_both)\n",
    "        \n",
    "        # get feature importances\n",
    "        fis.append(xgb_fi.feature_importances_)\n"
   ]
  },
  {
   "cell_type": "code",
   "execution_count": 147,
   "id": "4ba5c8f6-808b-49f6-937b-7ed85f4939c7",
   "metadata": {},
   "outputs": [
    {
     "data": {
      "text/plain": [
       "8618"
      ]
     },
     "execution_count": 147,
     "metadata": {},
     "output_type": "execute_result"
    }
   ],
   "source": [
    "len(fis)"
   ]
  },
  {
   "cell_type": "code",
   "execution_count": 148,
   "id": "16a6f324-1000-4f71-99e7-0a004e102d67",
   "metadata": {},
   "outputs": [],
   "source": [
    "fis = np.asarray(fis)"
   ]
  },
  {
   "cell_type": "code",
   "execution_count": 149,
   "id": "d593cab5-ec8d-4ec0-86f5-d83634f76bc7",
   "metadata": {},
   "outputs": [],
   "source": [
    "fis_mean = fis.mean(axis=0)"
   ]
  },
  {
   "cell_type": "code",
   "execution_count": 112,
   "id": "b5dac3da-89b0-46da-8b73-189f465d3cd9",
   "metadata": {},
   "outputs": [],
   "source": [
    "# vector of variables \n",
    "variables = pd.DataFrame(subsets[24])"
   ]
  },
  {
   "cell_type": "code",
   "execution_count": 170,
   "id": "defe4c66-6457-4f73-aa1c-d69feceb5f7c",
   "metadata": {},
   "outputs": [],
   "source": [
    "fi_df = pd.concat([variables, pd.DataFrame(fis_mean)], axis=1, names=['var', 'score'])\n",
    "fi_df.set_axis(['Features', 'Avg. Feature Importance Score'], axis=1, inplace=True)"
   ]
  },
  {
   "cell_type": "code",
   "execution_count": 172,
   "id": "d5288fb0-ecff-4208-bf15-73e36ac8ef15",
   "metadata": {},
   "outputs": [],
   "source": [
    "fi_df = fi_df.sort_values('Avg. Feature Importance Score', ascending=False)"
   ]
  },
  {
   "cell_type": "code",
   "execution_count": 173,
   "id": "3063bb8d-1d8c-44b3-bf75-f42c4efda4f6",
   "metadata": {},
   "outputs": [],
   "source": [
    "top_10_fi = fi_df.iloc[0:10]"
   ]
  },
  {
   "cell_type": "code",
   "execution_count": 176,
   "id": "e77af684-b7b5-47fb-8631-f038b1ee3ec9",
   "metadata": {},
   "outputs": [
    {
     "data": {
      "text/plain": [
       "<AxesSubplot:xlabel='Avg. Feature Importance Score', ylabel='Features'>"
      ]
     },
     "execution_count": 176,
     "metadata": {},
     "output_type": "execute_result"
    },
    {
     "data": {
      "image/png": "[encoded data removed]",
      "text/plain": [
       "<Figure size 432x288 with 1 Axes>"
      ]
     },
     "metadata": {
      "needs_background": "light"
     },
     "output_type": "display_data"
    }
   ],
   "source": [
    "sns.barplot(data=top_10_fi, y = 'Features', x='Avg. Feature Importance Score')"
   ]
  },
  {
   "cell_type": "code",
   "execution_count": null,
   "id": "e2ae482d-0551-497f-a36e-b31f749c4caa",
   "metadata": {},
   "outputs": [],
   "source": [
    "# concat variables with fis_mean\n",
    "# rename \n",
    "# sort by rank "
   ]
  }
 ],
 "metadata": {
  "kernelspec": {
   "display_name": "Python 3 (ipykernel)",
   "language": "python",
   "name": "python3"
  },
  "language_info": {
   "codemirror_mode": {
    "name": "ipython",
    "version": 3
   },
   "file_extension": ".py",
   "mimetype": "text/x-python",
   "name": "python",
   "nbconvert_exporter": "python",
   "pygments_lexer": "ipython3",
   "version": "3.9.7"
  }
 },
 "nbformat": 4,
 "nbformat_minor": 5
}
