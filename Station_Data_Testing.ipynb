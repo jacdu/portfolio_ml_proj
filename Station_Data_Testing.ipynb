{
 "cells": [
  {
   "cell_type": "markdown",
   "id": "ca7e73ac-5f1e-43e8-8ab1-1a06d25f8f2d",
   "metadata": {},
   "source": [
    "RDU/TDF columns\n",
    "1. station - station name\n",
    "2. date - date of observation (timezone GMT)\n",
    "3. time - time of observation (timezone GMT)\n",
    "4. wbgt - wet bulb globe temperature (°F)\n",
    "5. ta - air temperature (°F)\n",
    "6. rh - relative humidity (%)\n",
    "7. td = dewpoint temperature (°F)\n",
    "8. speed2m - wind speed 2 meters above ground (mph)\n",
    "9. solar - solar radiation (w/m2)\n",
    "10. cloudcover - percentage cloud cover\n",
    "11. hi - heat index (°F)\n",
    "12. lat - latitude of station\n",
    "13. lon - longitude of station"
   ]
  },
  {
   "cell_type": "code",
   "execution_count": 10,
   "id": "dcd9d2a7-5409-43db-bd07-f4b69f5c0c19",
   "metadata": {},
   "outputs": [],
   "source": [
    "import pandas as pd\n",
    "import numpy as np\n",
    "import matplotlib.pyplot as plt\n",
    "import seaborn as sns"
   ]
  },
  {
   "cell_type": "code",
   "execution_count": 2,
   "id": "d4a1cfe2-dee1-4cdf-a1cc-e572e697a1aa",
   "metadata": {},
   "outputs": [],
   "source": [
    "rdu = pd.read_csv(\"weather_station_data_20220915/rdu_station_data.csv\")"
   ]
  },
  {
   "cell_type": "code",
   "execution_count": 3,
   "id": "c306a3b0-e07c-478b-8037-1a18dd44664e",
   "metadata": {},
   "outputs": [
    {
     "data": {
      "text/html": [
       "<div>\n",
       "<style scoped>\n",
       "    .dataframe tbody tr th:only-of-type {\n",
       "        vertical-align: middle;\n",
       "    }\n",
       "\n",
       "    .dataframe tbody tr th {\n",
       "        vertical-align: top;\n",
       "    }\n",
       "\n",
       "    .dataframe thead th {\n",
       "        text-align: right;\n",
       "    }\n",
       "</style>\n",
       "<table border=\"1\" class=\"dataframe\">\n",
       "  <thead>\n",
       "    <tr style=\"text-align: right;\">\n",
       "      <th></th>\n",
       "      <th>station</th>\n",
       "      <th>date</th>\n",
       "      <th>time</th>\n",
       "      <th>wbgt</th>\n",
       "      <th>ta</th>\n",
       "      <th>rh</th>\n",
       "      <th>td</th>\n",
       "      <th>speed2m</th>\n",
       "      <th>solar</th>\n",
       "      <th>cloudcover</th>\n",
       "      <th>hi</th>\n",
       "      <th>lat</th>\n",
       "      <th>lon</th>\n",
       "    </tr>\n",
       "  </thead>\n",
       "  <tbody>\n",
       "    <tr>\n",
       "      <th>0</th>\n",
       "      <td>RDU</td>\n",
       "      <td>1/1/2014</td>\n",
       "      <td>0:51</td>\n",
       "      <td>33.3</td>\n",
       "      <td>37.9</td>\n",
       "      <td>57</td>\n",
       "      <td>24.1</td>\n",
       "      <td>4.5</td>\n",
       "      <td>0</td>\n",
       "      <td>87</td>\n",
       "      <td>36.0</td>\n",
       "      <td>35.8922</td>\n",
       "      <td>-78.7819</td>\n",
       "    </tr>\n",
       "    <tr>\n",
       "      <th>1</th>\n",
       "      <td>RDU</td>\n",
       "      <td>1/1/2014</td>\n",
       "      <td>1:51</td>\n",
       "      <td>31.9</td>\n",
       "      <td>36.0</td>\n",
       "      <td>67</td>\n",
       "      <td>26.1</td>\n",
       "      <td>2.2</td>\n",
       "      <td>0</td>\n",
       "      <td>87</td>\n",
       "      <td>34.2</td>\n",
       "      <td>35.8922</td>\n",
       "      <td>-78.7819</td>\n",
       "    </tr>\n",
       "    <tr>\n",
       "      <th>2</th>\n",
       "      <td>RDU</td>\n",
       "      <td>1/1/2014</td>\n",
       "      <td>2:51</td>\n",
       "      <td>31.6</td>\n",
       "      <td>36.0</td>\n",
       "      <td>64</td>\n",
       "      <td>25.0</td>\n",
       "      <td>2.2</td>\n",
       "      <td>0</td>\n",
       "      <td>87</td>\n",
       "      <td>34.2</td>\n",
       "      <td>35.8922</td>\n",
       "      <td>-78.7819</td>\n",
       "    </tr>\n",
       "    <tr>\n",
       "      <th>3</th>\n",
       "      <td>RDU</td>\n",
       "      <td>1/1/2014</td>\n",
       "      <td>3:51</td>\n",
       "      <td>30.2</td>\n",
       "      <td>34.0</td>\n",
       "      <td>69</td>\n",
       "      <td>25.0</td>\n",
       "      <td>2.2</td>\n",
       "      <td>0</td>\n",
       "      <td>87</td>\n",
       "      <td>32.2</td>\n",
       "      <td>35.8922</td>\n",
       "      <td>-78.7819</td>\n",
       "    </tr>\n",
       "    <tr>\n",
       "      <th>4</th>\n",
       "      <td>RDU</td>\n",
       "      <td>1/1/2014</td>\n",
       "      <td>4:51</td>\n",
       "      <td>29.5</td>\n",
       "      <td>33.1</td>\n",
       "      <td>72</td>\n",
       "      <td>25.0</td>\n",
       "      <td>2.2</td>\n",
       "      <td>0</td>\n",
       "      <td>87</td>\n",
       "      <td>31.3</td>\n",
       "      <td>35.8922</td>\n",
       "      <td>-78.7819</td>\n",
       "    </tr>\n",
       "    <tr>\n",
       "      <th>...</th>\n",
       "      <td>...</td>\n",
       "      <td>...</td>\n",
       "      <td>...</td>\n",
       "      <td>...</td>\n",
       "      <td>...</td>\n",
       "      <td>...</td>\n",
       "      <td>...</td>\n",
       "      <td>...</td>\n",
       "      <td>...</td>\n",
       "      <td>...</td>\n",
       "      <td>...</td>\n",
       "      <td>...</td>\n",
       "      <td>...</td>\n",
       "    </tr>\n",
       "    <tr>\n",
       "      <th>85340</th>\n",
       "      <td>RDU</td>\n",
       "      <td>9/12/2022</td>\n",
       "      <td>22:51</td>\n",
       "      <td>75.5</td>\n",
       "      <td>80.1</td>\n",
       "      <td>71</td>\n",
       "      <td>70.0</td>\n",
       "      <td>2.7</td>\n",
       "      <td>43</td>\n",
       "      <td>87</td>\n",
       "      <td>83.3</td>\n",
       "      <td>35.8922</td>\n",
       "      <td>-78.7819</td>\n",
       "    </tr>\n",
       "    <tr>\n",
       "      <th>85341</th>\n",
       "      <td>RDU</td>\n",
       "      <td>9/12/2022</td>\n",
       "      <td>23:09</td>\n",
       "      <td>74.8</td>\n",
       "      <td>80.1</td>\n",
       "      <td>71</td>\n",
       "      <td>70.0</td>\n",
       "      <td>3.6</td>\n",
       "      <td>9</td>\n",
       "      <td>87</td>\n",
       "      <td>83.3</td>\n",
       "      <td>35.8922</td>\n",
       "      <td>-78.7819</td>\n",
       "    </tr>\n",
       "    <tr>\n",
       "      <th>85342</th>\n",
       "      <td>RDU</td>\n",
       "      <td>9/12/2022</td>\n",
       "      <td>23:16</td>\n",
       "      <td>74.2</td>\n",
       "      <td>79.0</td>\n",
       "      <td>74</td>\n",
       "      <td>70.0</td>\n",
       "      <td>5.4</td>\n",
       "      <td>0</td>\n",
       "      <td>87</td>\n",
       "      <td>81.7</td>\n",
       "      <td>35.8922</td>\n",
       "      <td>-78.7819</td>\n",
       "    </tr>\n",
       "    <tr>\n",
       "      <th>85343</th>\n",
       "      <td>RDU</td>\n",
       "      <td>9/12/2022</td>\n",
       "      <td>23:28</td>\n",
       "      <td>74.5</td>\n",
       "      <td>75.9</td>\n",
       "      <td>94</td>\n",
       "      <td>73.9</td>\n",
       "      <td>2.2</td>\n",
       "      <td>0</td>\n",
       "      <td>87</td>\n",
       "      <td>77.6</td>\n",
       "      <td>35.8922</td>\n",
       "      <td>-78.7819</td>\n",
       "    </tr>\n",
       "    <tr>\n",
       "      <th>85344</th>\n",
       "      <td>RDU</td>\n",
       "      <td>9/12/2022</td>\n",
       "      <td>23:51</td>\n",
       "      <td>73.7</td>\n",
       "      <td>75.0</td>\n",
       "      <td>94</td>\n",
       "      <td>73.0</td>\n",
       "      <td>6.3</td>\n",
       "      <td>0</td>\n",
       "      <td>87</td>\n",
       "      <td>76.6</td>\n",
       "      <td>35.8922</td>\n",
       "      <td>-78.7819</td>\n",
       "    </tr>\n",
       "  </tbody>\n",
       "</table>\n",
       "<p>85345 rows × 13 columns</p>\n",
       "</div>"
      ],
      "text/plain": [
       "      station       date   time  wbgt    ta  rh    td  speed2m  solar  \\\n",
       "0         RDU   1/1/2014   0:51  33.3  37.9  57  24.1      4.5      0   \n",
       "1         RDU   1/1/2014   1:51  31.9  36.0  67  26.1      2.2      0   \n",
       "2         RDU   1/1/2014   2:51  31.6  36.0  64  25.0      2.2      0   \n",
       "3         RDU   1/1/2014   3:51  30.2  34.0  69  25.0      2.2      0   \n",
       "4         RDU   1/1/2014   4:51  29.5  33.1  72  25.0      2.2      0   \n",
       "...       ...        ...    ...   ...   ...  ..   ...      ...    ...   \n",
       "85340     RDU  9/12/2022  22:51  75.5  80.1  71  70.0      2.7     43   \n",
       "85341     RDU  9/12/2022  23:09  74.8  80.1  71  70.0      3.6      9   \n",
       "85342     RDU  9/12/2022  23:16  74.2  79.0  74  70.0      5.4      0   \n",
       "85343     RDU  9/12/2022  23:28  74.5  75.9  94  73.9      2.2      0   \n",
       "85344     RDU  9/12/2022  23:51  73.7  75.0  94  73.0      6.3      0   \n",
       "\n",
       "       cloudcover    hi      lat      lon  \n",
       "0              87  36.0  35.8922 -78.7819  \n",
       "1              87  34.2  35.8922 -78.7819  \n",
       "2              87  34.2  35.8922 -78.7819  \n",
       "3              87  32.2  35.8922 -78.7819  \n",
       "4              87  31.3  35.8922 -78.7819  \n",
       "...           ...   ...      ...      ...  \n",
       "85340          87  83.3  35.8922 -78.7819  \n",
       "85341          87  83.3  35.8922 -78.7819  \n",
       "85342          87  81.7  35.8922 -78.7819  \n",
       "85343          87  77.6  35.8922 -78.7819  \n",
       "85344          87  76.6  35.8922 -78.7819  \n",
       "\n",
       "[85345 rows x 13 columns]"
      ]
     },
     "execution_count": 3,
     "metadata": {},
     "output_type": "execute_result"
    }
   ],
   "source": [
    "rdu"
   ]
  },
  {
   "cell_type": "code",
   "execution_count": 4,
   "id": "afe60601-f730-4674-b56a-cb280e79ffae",
   "metadata": {},
   "outputs": [],
   "source": [
    "rdu[\"date_time\"] = rdu[\"date\"] + \" \" + rdu[\"time\"]"
   ]
  },
  {
   "cell_type": "code",
   "execution_count": 6,
   "id": "57b629b9-a453-4418-8279-ec93e238050b",
   "metadata": {},
   "outputs": [],
   "source": [
    "rdu['date_time'] = pd.to_datetime(rdu['date_time'])"
   ]
  },
  {
   "cell_type": "code",
   "execution_count": 39,
   "id": "d889993b-9e3e-4655-a9b4-6ad5818b2403",
   "metadata": {},
   "outputs": [],
   "source": [
    "rdu_sub = rdu[['date_time', 'wbgt','ta','rh','td','speed2m','solar','cloudcover','hi']]"
   ]
  },
  {
   "cell_type": "code",
   "execution_count": 40,
   "id": "127126ab-cc7f-4b9f-b7df-be4642270474",
   "metadata": {},
   "outputs": [
    {
     "name": "stderr",
     "output_type": "stream",
     "text": [
      "/var/folders/cl/s7gjgzxs6rv0zvrqnr00vk800000gn/T/ipykernel_29477/2264300285.py:11: SettingWithCopyWarning: \n",
      "A value is trying to be set on a copy of a slice from a DataFrame.\n",
      "Try using .loc[row_indexer,col_indexer] = value instead\n",
      "\n",
      "See the caveats in the documentation: https://pandas.pydata.org/pandas-docs/stable/user_guide/indexing.html#returning-a-view-versus-a-copy\n",
      "  rdu_sub['EH'] = np.select(EH_Conditions, EH_Categories)\n"
     ]
    }
   ],
   "source": [
    "EH_Conditions = [\n",
    "    (rdu_sub['hi'] < 80),\n",
    "    (rdu_sub['hi'] >= 80) & (rdu_sub['hi'] < 90),\n",
    "    (rdu_sub['hi'] >= 90) & (rdu_sub['hi'] < 103),\n",
    "    (rdu_sub['hi'] >= 103) & (rdu_sub['hi'] < 124),\n",
    "    (rdu_sub['hi'] >= 124)\n",
    "]\n",
    "\n",
    "EH_Categories = ['None','Caution', 'Extreme Caution', 'Danger', 'Extreme Danger']\n",
    "\n",
    "rdu_sub['EH'] = np.select(EH_Conditions, EH_Categories)"
   ]
  },
  {
   "cell_type": "code",
   "execution_count": 42,
   "id": "c4cfa637-c605-4a72-bb0b-06663a1b39db",
   "metadata": {},
   "outputs": [],
   "source": [
    "rdu_dummies = pd.get_dummies(rdu_sub)"
   ]
  },
  {
   "cell_type": "code",
   "execution_count": 43,
   "id": "4d32f4d0-f44f-4ad4-98a1-deaaf854b1b7",
   "metadata": {},
   "outputs": [],
   "source": [
    "corr = rdu_dummies.corr()"
   ]
  },
  {
   "cell_type": "code",
   "execution_count": 44,
   "id": "612622dc-c387-42e8-b31a-630856d1ddc0",
   "metadata": {},
   "outputs": [
    {
     "data": {
      "text/html": [
       "<div>\n",
       "<style scoped>\n",
       "    .dataframe tbody tr th:only-of-type {\n",
       "        vertical-align: middle;\n",
       "    }\n",
       "\n",
       "    .dataframe tbody tr th {\n",
       "        vertical-align: top;\n",
       "    }\n",
       "\n",
       "    .dataframe thead th {\n",
       "        text-align: right;\n",
       "    }\n",
       "</style>\n",
       "<table border=\"1\" class=\"dataframe\">\n",
       "  <thead>\n",
       "    <tr style=\"text-align: right;\">\n",
       "      <th></th>\n",
       "      <th>wbgt</th>\n",
       "      <th>ta</th>\n",
       "      <th>rh</th>\n",
       "      <th>td</th>\n",
       "      <th>speed2m</th>\n",
       "      <th>solar</th>\n",
       "      <th>cloudcover</th>\n",
       "      <th>hi</th>\n",
       "      <th>EH_Caution</th>\n",
       "      <th>EH_Danger</th>\n",
       "      <th>EH_Extreme Caution</th>\n",
       "      <th>EH_None</th>\n",
       "    </tr>\n",
       "  </thead>\n",
       "  <tbody>\n",
       "    <tr>\n",
       "      <th>wbgt</th>\n",
       "      <td>1.000000</td>\n",
       "      <td>0.982715</td>\n",
       "      <td>0.068339</td>\n",
       "      <td>0.905570</td>\n",
       "      <td>0.168340</td>\n",
       "      <td>0.416459</td>\n",
       "      <td>0.164236</td>\n",
       "      <td>0.984343</td>\n",
       "      <td>0.390815</td>\n",
       "      <td>0.105507</td>\n",
       "      <td>0.356806</td>\n",
       "      <td>-0.559556</td>\n",
       "    </tr>\n",
       "    <tr>\n",
       "      <th>ta</th>\n",
       "      <td>0.982715</td>\n",
       "      <td>1.000000</td>\n",
       "      <td>-0.047078</td>\n",
       "      <td>0.862078</td>\n",
       "      <td>0.193592</td>\n",
       "      <td>0.394749</td>\n",
       "      <td>0.142430</td>\n",
       "      <td>0.996092</td>\n",
       "      <td>0.411453</td>\n",
       "      <td>0.115316</td>\n",
       "      <td>0.380581</td>\n",
       "      <td>-0.592784</td>\n",
       "    </tr>\n",
       "    <tr>\n",
       "      <th>rh</th>\n",
       "      <td>0.068339</td>\n",
       "      <td>-0.047078</td>\n",
       "      <td>1.000000</td>\n",
       "      <td>0.457823</td>\n",
       "      <td>-0.205017</td>\n",
       "      <td>-0.499871</td>\n",
       "      <td>0.324925</td>\n",
       "      <td>-0.008276</td>\n",
       "      <td>-0.150134</td>\n",
       "      <td>-0.053847</td>\n",
       "      <td>-0.177165</td>\n",
       "      <td>0.241443</td>\n",
       "    </tr>\n",
       "    <tr>\n",
       "      <th>td</th>\n",
       "      <td>0.905570</td>\n",
       "      <td>0.862078</td>\n",
       "      <td>0.457823</td>\n",
       "      <td>1.000000</td>\n",
       "      <td>0.067250</td>\n",
       "      <td>0.092037</td>\n",
       "      <td>0.287322</td>\n",
       "      <td>0.879651</td>\n",
       "      <td>0.297303</td>\n",
       "      <td>0.074988</td>\n",
       "      <td>0.252530</td>\n",
       "      <td>-0.413345</td>\n",
       "    </tr>\n",
       "    <tr>\n",
       "      <th>speed2m</th>\n",
       "      <td>0.168340</td>\n",
       "      <td>0.193592</td>\n",
       "      <td>-0.205017</td>\n",
       "      <td>0.067250</td>\n",
       "      <td>1.000000</td>\n",
       "      <td>0.272643</td>\n",
       "      <td>0.168629</td>\n",
       "      <td>0.183535</td>\n",
       "      <td>0.072473</td>\n",
       "      <td>0.042932</td>\n",
       "      <td>0.080312</td>\n",
       "      <td>-0.116127</td>\n",
       "    </tr>\n",
       "    <tr>\n",
       "      <th>solar</th>\n",
       "      <td>0.416459</td>\n",
       "      <td>0.394749</td>\n",
       "      <td>-0.499871</td>\n",
       "      <td>0.092037</td>\n",
       "      <td>0.272643</td>\n",
       "      <td>1.000000</td>\n",
       "      <td>-0.201228</td>\n",
       "      <td>0.385381</td>\n",
       "      <td>0.269987</td>\n",
       "      <td>0.113052</td>\n",
       "      <td>0.346573</td>\n",
       "      <td>-0.453789</td>\n",
       "    </tr>\n",
       "    <tr>\n",
       "      <th>cloudcover</th>\n",
       "      <td>0.164236</td>\n",
       "      <td>0.142430</td>\n",
       "      <td>0.324925</td>\n",
       "      <td>0.287322</td>\n",
       "      <td>0.168629</td>\n",
       "      <td>-0.201228</td>\n",
       "      <td>1.000000</td>\n",
       "      <td>0.152429</td>\n",
       "      <td>0.006637</td>\n",
       "      <td>0.000267</td>\n",
       "      <td>-0.003336</td>\n",
       "      <td>-0.003554</td>\n",
       "    </tr>\n",
       "    <tr>\n",
       "      <th>hi</th>\n",
       "      <td>0.984343</td>\n",
       "      <td>0.996092</td>\n",
       "      <td>-0.008276</td>\n",
       "      <td>0.879651</td>\n",
       "      <td>0.183535</td>\n",
       "      <td>0.385381</td>\n",
       "      <td>0.152429</td>\n",
       "      <td>1.000000</td>\n",
       "      <td>0.415122</td>\n",
       "      <td>0.137965</td>\n",
       "      <td>0.417867</td>\n",
       "      <td>-0.622133</td>\n",
       "    </tr>\n",
       "    <tr>\n",
       "      <th>EH_Caution</th>\n",
       "      <td>0.390815</td>\n",
       "      <td>0.411453</td>\n",
       "      <td>-0.150134</td>\n",
       "      <td>0.297303</td>\n",
       "      <td>0.072473</td>\n",
       "      <td>0.269987</td>\n",
       "      <td>0.006637</td>\n",
       "      <td>0.415122</td>\n",
       "      <td>1.000000</td>\n",
       "      <td>-0.020468</td>\n",
       "      <td>-0.080804</td>\n",
       "      <td>-0.781700</td>\n",
       "    </tr>\n",
       "    <tr>\n",
       "      <th>EH_Danger</th>\n",
       "      <td>0.105507</td>\n",
       "      <td>0.115316</td>\n",
       "      <td>-0.053847</td>\n",
       "      <td>0.074988</td>\n",
       "      <td>0.042932</td>\n",
       "      <td>0.113052</td>\n",
       "      <td>0.000267</td>\n",
       "      <td>0.137965</td>\n",
       "      <td>-0.020468</td>\n",
       "      <td>1.000000</td>\n",
       "      <td>-0.014066</td>\n",
       "      <td>-0.136076</td>\n",
       "    </tr>\n",
       "    <tr>\n",
       "      <th>EH_Extreme Caution</th>\n",
       "      <td>0.356806</td>\n",
       "      <td>0.380581</td>\n",
       "      <td>-0.177165</td>\n",
       "      <td>0.252530</td>\n",
       "      <td>0.080312</td>\n",
       "      <td>0.346573</td>\n",
       "      <td>-0.003336</td>\n",
       "      <td>0.417867</td>\n",
       "      <td>-0.080804</td>\n",
       "      <td>-0.014066</td>\n",
       "      <td>1.000000</td>\n",
       "      <td>-0.537212</td>\n",
       "    </tr>\n",
       "    <tr>\n",
       "      <th>EH_None</th>\n",
       "      <td>-0.559556</td>\n",
       "      <td>-0.592784</td>\n",
       "      <td>0.241443</td>\n",
       "      <td>-0.413345</td>\n",
       "      <td>-0.116127</td>\n",
       "      <td>-0.453789</td>\n",
       "      <td>-0.003554</td>\n",
       "      <td>-0.622133</td>\n",
       "      <td>-0.781700</td>\n",
       "      <td>-0.136076</td>\n",
       "      <td>-0.537212</td>\n",
       "      <td>1.000000</td>\n",
       "    </tr>\n",
       "  </tbody>\n",
       "</table>\n",
       "</div>"
      ],
      "text/plain": [
       "                        wbgt        ta        rh        td   speed2m  \\\n",
       "wbgt                1.000000  0.982715  0.068339  0.905570  0.168340   \n",
       "ta                  0.982715  1.000000 -0.047078  0.862078  0.193592   \n",
       "rh                  0.068339 -0.047078  1.000000  0.457823 -0.205017   \n",
       "td                  0.905570  0.862078  0.457823  1.000000  0.067250   \n",
       "speed2m             0.168340  0.193592 -0.205017  0.067250  1.000000   \n",
       "solar               0.416459  0.394749 -0.499871  0.092037  0.272643   \n",
       "cloudcover          0.164236  0.142430  0.324925  0.287322  0.168629   \n",
       "hi                  0.984343  0.996092 -0.008276  0.879651  0.183535   \n",
       "EH_Caution          0.390815  0.411453 -0.150134  0.297303  0.072473   \n",
       "EH_Danger           0.105507  0.115316 -0.053847  0.074988  0.042932   \n",
       "EH_Extreme Caution  0.356806  0.380581 -0.177165  0.252530  0.080312   \n",
       "EH_None            -0.559556 -0.592784  0.241443 -0.413345 -0.116127   \n",
       "\n",
       "                       solar  cloudcover        hi  EH_Caution  EH_Danger  \\\n",
       "wbgt                0.416459    0.164236  0.984343    0.390815   0.105507   \n",
       "ta                  0.394749    0.142430  0.996092    0.411453   0.115316   \n",
       "rh                 -0.499871    0.324925 -0.008276   -0.150134  -0.053847   \n",
       "td                  0.092037    0.287322  0.879651    0.297303   0.074988   \n",
       "speed2m             0.272643    0.168629  0.183535    0.072473   0.042932   \n",
       "solar               1.000000   -0.201228  0.385381    0.269987   0.113052   \n",
       "cloudcover         -0.201228    1.000000  0.152429    0.006637   0.000267   \n",
       "hi                  0.385381    0.152429  1.000000    0.415122   0.137965   \n",
       "EH_Caution          0.269987    0.006637  0.415122    1.000000  -0.020468   \n",
       "EH_Danger           0.113052    0.000267  0.137965   -0.020468   1.000000   \n",
       "EH_Extreme Caution  0.346573   -0.003336  0.417867   -0.080804  -0.014066   \n",
       "EH_None            -0.453789   -0.003554 -0.622133   -0.781700  -0.136076   \n",
       "\n",
       "                    EH_Extreme Caution   EH_None  \n",
       "wbgt                          0.356806 -0.559556  \n",
       "ta                            0.380581 -0.592784  \n",
       "rh                           -0.177165  0.241443  \n",
       "td                            0.252530 -0.413345  \n",
       "speed2m                       0.080312 -0.116127  \n",
       "solar                         0.346573 -0.453789  \n",
       "cloudcover                   -0.003336 -0.003554  \n",
       "hi                            0.417867 -0.622133  \n",
       "EH_Caution                   -0.080804 -0.781700  \n",
       "EH_Danger                    -0.014066 -0.136076  \n",
       "EH_Extreme Caution            1.000000 -0.537212  \n",
       "EH_None                      -0.537212  1.000000  "
      ]
     },
     "execution_count": 44,
     "metadata": {},
     "output_type": "execute_result"
    }
   ],
   "source": [
    "corr"
   ]
  },
  {
   "cell_type": "code",
   "execution_count": 45,
   "id": "8c9698d1-a312-417d-8f00-f1fea5591ae1",
   "metadata": {},
   "outputs": [],
   "source": [
    "mask = np.triu(np.ones_like(corr, dtype=bool))\n",
    "cmap = sns.diverging_palette(250, 30, as_cmap=True)"
   ]
  },
  {
   "cell_type": "code",
   "execution_count": 46,
   "id": "470e6331-d9ea-4383-a4d4-a4a4dfa75375",
   "metadata": {},
   "outputs": [
    {
     "data": {
      "image/png": "[encoded data removed]",
      "text/plain": [
       "<Figure size 432x288 with 2 Axes>"
      ]
     },
     "metadata": {
      "needs_background": "light"
     },
     "output_type": "display_data"
    }
   ],
   "source": [
    "sns.heatmap(corr, mask=mask, cmap=cmap, center=0,linewidths=.5)\n",
    "plt.show()"
   ]
  },
  {
   "cell_type": "code",
   "execution_count": 35,
   "id": "33722380-4505-42ef-8a17-a725210060e5",
   "metadata": {},
   "outputs": [
    {
     "data": {
      "text/plain": [
       "None               71573\n",
       "Caution             8979\n",
       "Extreme Caution     4490\n",
       "Danger               303\n",
       "Name: EH, dtype: int64"
      ]
     },
     "execution_count": 35,
     "metadata": {},
     "output_type": "execute_result"
    }
   ],
   "source": [
    "# Never have extreme danger in RDU data\n",
    "rdu_sub['EH'].value_counts()"
   ]
  },
  {
   "cell_type": "code",
   "execution_count": 47,
   "id": "afece0f5-cfb9-467e-ad95-c093715bcec5",
   "metadata": {},
   "outputs": [
    {
     "data": {
      "text/plain": [
       "EH\n",
       "Caution            309.0\n",
       "Danger             485.0\n",
       "Extreme Caution    450.0\n",
       "None                 0.0\n",
       "Name: solar, dtype: float64"
      ]
     },
     "execution_count": 47,
     "metadata": {},
     "output_type": "execute_result"
    }
   ],
   "source": [
    "#rdu_sub.groupby(['EH'])['speed2m'].median()\n",
    "#rdu_sub.groupby(['EH'])['wbgt'].median()\n",
    "rdu_sub.groupby(['EH'])['solar'].median()"
   ]
  },
  {
   "cell_type": "code",
   "execution_count": 53,
   "id": "3369223c-abeb-4fea-96ad-e4f4a908dd53",
   "metadata": {},
   "outputs": [
    {
     "data": {
      "image/png": "[encoded data removed]",
      "text/plain": [
       "<Figure size 432x288 with 1 Axes>"
      ]
     },
     "metadata": {
      "needs_background": "light"
     },
     "output_type": "display_data"
    }
   ],
   "source": [
    "sns.violinplot(data=rdu_sub, x=\"EH\", y=\"solar\")\n",
    "plt.show()"
   ]
  },
  {
   "cell_type": "code",
   "execution_count": 54,
   "id": "3fdcdde1-59f4-4ad7-a3bc-31a2b767851c",
   "metadata": {},
   "outputs": [
    {
     "data": {
      "image/png": "[encoded data removed]",
      "text/plain": [
       "<Figure size 432x288 with 1 Axes>"
      ]
     },
     "metadata": {
      "needs_background": "light"
     },
     "output_type": "display_data"
    }
   ],
   "source": [
    "sns.boxplot(data=rdu_sub, x=\"EH\", y=\"solar\")\n",
    "plt.show()"
   ]
  },
  {
   "cell_type": "code",
   "execution_count": 56,
   "id": "f19c516a-edbe-4433-ae31-2a40099495f9",
   "metadata": {},
   "outputs": [
    {
     "data": {
      "image/png": "[encoded data removed]",
      "text/plain": [
       "<Figure size 432x288 with 1 Axes>"
      ]
     },
     "metadata": {
      "needs_background": "light"
     },
     "output_type": "display_data"
    }
   ],
   "source": [
    "sns.violinplot(data=rdu_sub, x=\"EH\", y=\"speed2m\")\n",
    "plt.show()"
   ]
  },
  {
   "cell_type": "code",
   "execution_count": 55,
   "id": "c4668db6-f7e2-4414-94c4-34c538b24ee5",
   "metadata": {},
   "outputs": [
    {
     "data": {
      "image/png": "[encoded data removed]",
      "text/plain": [
       "<Figure size 432x288 with 1 Axes>"
      ]
     },
     "metadata": {
      "needs_background": "light"
     },
     "output_type": "display_data"
    }
   ],
   "source": [
    "sns.boxplot(data=rdu_sub, x=\"EH\", y=\"speed2m\")\n",
    "plt.show()"
   ]
  },
  {
   "cell_type": "code",
   "execution_count": null,
   "id": "52ddb0e0-4f7b-4dcc-be14-d34a6f81991f",
   "metadata": {},
   "outputs": [],
   "source": []
  }
 ],
 "metadata": {
  "kernelspec": {
   "display_name": "Python 3 (ipykernel)",
   "language": "python",
   "name": "python3"
  },
  "language_info": {
   "codemirror_mode": {
    "name": "ipython",
    "version": 3
   },
   "file_extension": ".py",
   "mimetype": "text/x-python",
   "name": "python",
   "nbconvert_exporter": "python",
   "pygments_lexer": "ipython3",
   "version": "3.9.7"
  }
 },
 "nbformat": 4,
 "nbformat_minor": 5
}
