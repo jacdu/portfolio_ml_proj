{
 "cells": [
  {
   "cell_type": "code",
   "execution_count": 1,
   "id": "715337fd-dac3-49f7-9918-b24ad85b6cd8",
   "metadata": {},
   "outputs": [],
   "source": [
    "import pandas as pd\n",
    "import numpy as np\n",
    "import matplotlib.pyplot as plt\n",
    "import seaborn as sns"
   ]
  },
  {
   "cell_type": "code",
   "execution_count": 2,
   "id": "8aec7394-bb1a-44b2-bb44-496fabe5f881",
   "metadata": {},
   "outputs": [],
   "source": [
    "rdu = pd.read_csv(\"weather_station_data_20220915/rdu_station_data.csv\")\n",
    "rdu[\"date_time\"] = rdu[\"date\"] + \" \" + rdu[\"time\"]\n",
    "rdu['date_time'] = pd.to_datetime(rdu['date_time'])\n",
    "rdu_sub = rdu[['date_time', 'wbgt','ta','rh','td','speed2m','solar','cloudcover','hi']]"
   ]
  },
  {
   "cell_type": "code",
   "execution_count": 3,
   "id": "938cb934-88e4-4588-bd1b-237e2e0e25bc",
   "metadata": {},
   "outputs": [],
   "source": [
    "warnings =  pd.read_csv(\"vtec_NCZ025_20140101_20221010.csv\")"
   ]
  },
  {
   "cell_type": "code",
   "execution_count": 4,
   "id": "0881966d-5950-40ba-b424-4948192a960b",
   "metadata": {},
   "outputs": [
    {
     "name": "stderr",
     "output_type": "stream",
     "text": [
      "/Users/alisonreynolds/opt/anaconda3/lib/python3.9/site-packages/pandas/core/indexing.py:1773: SettingWithCopyWarning: \n",
      "A value is trying to be set on a copy of a slice from a DataFrame.\n",
      "Try using .loc[row_indexer,col_indexer] = value instead\n",
      "\n",
      "See the caveats in the documentation: https://pandas.pydata.org/pandas-docs/stable/user_guide/indexing.html#returning-a-view-versus-a-copy\n",
      "  self._setitem_single_column(ilocs[0], value, pi)\n"
     ]
    }
   ],
   "source": [
    "heat_warnings = warnings.loc[(warnings['ph_name'] == \"Heat\") | (warnings['ph_name'] == \"Excessive Heat\"),]\n",
    "heat_warnings.loc[:,\"issued\"] = pd.to_datetime(heat_warnings.loc[:,\"issued\"])\n",
    "heat_warnings.loc[:,\"expired\"] = pd.to_datetime(heat_warnings.loc[:,\"expired\"])\n",
    "heat_warnings.loc[:,\"issued\"]= heat_warnings.issued.dt.to_period('h')\n",
    "heat_warnings.loc[:,\"expired\"]= heat_warnings.expired.dt.to_period('h')"
   ]
  },
  {
   "cell_type": "code",
   "execution_count": 5,
   "id": "fac722dd-359b-4987-94b4-fb2ac3cd735a",
   "metadata": {},
   "outputs": [],
   "source": [
    "heat_warnings_neg = heat_warnings.loc[heat_warnings.issued > heat_warnings.expired,:]\n",
    "heat_warnings_pos = pd.concat([heat_warnings, heat_warnings_neg,heat_warnings_neg]).drop_duplicates(keep=False)"
   ]
  },
  {
   "cell_type": "code",
   "execution_count": 6,
   "id": "2c5c623d-21aa-43d3-8300-db4145a785c3",
   "metadata": {},
   "outputs": [
    {
     "name": "stderr",
     "output_type": "stream",
     "text": [
      "/Users/alisonreynolds/opt/anaconda3/lib/python3.9/site-packages/pandas/core/frame.py:5039: SettingWithCopyWarning: \n",
      "A value is trying to be set on a copy of a slice from a DataFrame\n",
      "\n",
      "See the caveats in the documentation: https://pandas.pydata.org/pandas-docs/stable/user_guide/indexing.html#returning-a-view-versus-a-copy\n",
      "  return super().rename(\n"
     ]
    }
   ],
   "source": [
    "heat_warnings_neg.rename(columns={\"issued\":\"expired\",\"expired\":\"issued\"},inplace=True)"
   ]
  },
  {
   "cell_type": "code",
   "execution_count": 7,
   "id": "0822e2fa-b36f-4f1f-bfe3-470d2f2e01a8",
   "metadata": {},
   "outputs": [],
   "source": [
    "col_list = list(heat_warnings_neg)\n",
    "col_list[1], col_list[3] = col_list[3], col_list[1]\n",
    "heat_warnings_neg = heat_warnings_neg.reindex(columns=col_list)"
   ]
  },
  {
   "cell_type": "code",
   "execution_count": 8,
   "id": "fc592344-81a2-4509-8862-339d06f6b927",
   "metadata": {},
   "outputs": [],
   "source": [
    "heat_warnings_f = pd.concat([heat_warnings_pos,heat_warnings_neg], axis=0)\n",
    "heat_warnings_f.loc[:,\"hour_diff\"] = heat_warnings_f.expired - heat_warnings_f.issued "
   ]
  },
  {
   "cell_type": "code",
   "execution_count": 9,
   "id": "3ac0c7de-3790-48f3-a8cf-ccda2bb73f4c",
   "metadata": {},
   "outputs": [],
   "source": [
    "warning_dates = pd.DataFrame()"
   ]
  },
  {
   "cell_type": "code",
   "execution_count": 10,
   "id": "c5fc9616-9037-4718-9321-6fea970a570b",
   "metadata": {},
   "outputs": [],
   "source": [
    "for i in range(len(heat_warnings_f)):\n",
    "    x = heat_warnings_f.iloc[i,:]\n",
    "    num = int(x.loc[\"hour_diff\"].freqstr[0])\n",
    "    num1 = num + 1\n",
    "    date = x.loc[\"issued\"]\n",
    "    date_i = [x.loc[\"issued\"] + 1 * i for i in range(num1)]\n",
    "    warnings_i = [x.loc[\"name\"]]* num1\n",
    "    df_i = pd.DataFrame(columns = ['Date', 'Name'])\n",
    "    df_i.loc[:,'Date'] = date_i\n",
    "    df_i.loc[:,'Name'] = warnings_i\n",
    "    warning_dates = pd.concat([warning_dates,df_i], axis=0)"
   ]
  },
  {
   "cell_type": "code",
   "execution_count": 11,
   "id": "2bc77714-bcbc-49c2-bc90-60a01a61bc08",
   "metadata": {},
   "outputs": [
    {
     "name": "stderr",
     "output_type": "stream",
     "text": [
      "/Users/alisonreynolds/opt/anaconda3/lib/python3.9/site-packages/pandas/core/indexing.py:1667: SettingWithCopyWarning: \n",
      "A value is trying to be set on a copy of a slice from a DataFrame.\n",
      "Try using .loc[row_indexer,col_indexer] = value instead\n",
      "\n",
      "See the caveats in the documentation: https://pandas.pydata.org/pandas-docs/stable/user_guide/indexing.html#returning-a-view-versus-a-copy\n",
      "  self.obj[key] = value\n"
     ]
    }
   ],
   "source": [
    "rdu_sub.loc[:,\"Date\"] = rdu_sub.date_time.dt.to_period('h')"
   ]
  },
  {
   "cell_type": "code",
   "execution_count": 12,
   "id": "47d2eb45-1b39-45a1-a685-15dce28cb60d",
   "metadata": {},
   "outputs": [],
   "source": [
    "full_data = rdu_sub.join(warning_dates.set_index('Date'), how = \"left\", on='Date')"
   ]
  },
  {
   "cell_type": "code",
   "execution_count": 13,
   "id": "eeda87ce-3c3a-4a28-9c8b-45ec267259df",
   "metadata": {},
   "outputs": [],
   "source": [
    "full_data.loc[:,\"Heat\"] = 1\n",
    "full_data.loc[full_data['Name'].isna(),'Heat'] = 0\n",
    "full_data.loc[full_data['Name'].isna(),'Name'] = \"None\""
   ]
  },
  {
   "cell_type": "code",
   "execution_count": 14,
   "id": "c0abd321-337e-4dcc-8d58-7489c2632305",
   "metadata": {},
   "outputs": [],
   "source": [
    "corr = full_data.corr()"
   ]
  },
  {
   "cell_type": "code",
   "execution_count": 15,
   "id": "b764546e-ae65-4fd8-b4b6-ed203bd67e41",
   "metadata": {},
   "outputs": [
    {
     "data": {
      "text/html": [
       "<div>\n",
       "<style scoped>\n",
       "    .dataframe tbody tr th:only-of-type {\n",
       "        vertical-align: middle;\n",
       "    }\n",
       "\n",
       "    .dataframe tbody tr th {\n",
       "        vertical-align: top;\n",
       "    }\n",
       "\n",
       "    .dataframe thead th {\n",
       "        text-align: right;\n",
       "    }\n",
       "</style>\n",
       "<table border=\"1\" class=\"dataframe\">\n",
       "  <thead>\n",
       "    <tr style=\"text-align: right;\">\n",
       "      <th></th>\n",
       "      <th>wbgt</th>\n",
       "      <th>ta</th>\n",
       "      <th>rh</th>\n",
       "      <th>td</th>\n",
       "      <th>speed2m</th>\n",
       "      <th>solar</th>\n",
       "      <th>cloudcover</th>\n",
       "      <th>hi</th>\n",
       "      <th>Heat</th>\n",
       "    </tr>\n",
       "  </thead>\n",
       "  <tbody>\n",
       "    <tr>\n",
       "      <th>wbgt</th>\n",
       "      <td>1.000000</td>\n",
       "      <td>0.982715</td>\n",
       "      <td>0.068216</td>\n",
       "      <td>0.905574</td>\n",
       "      <td>0.168378</td>\n",
       "      <td>0.416543</td>\n",
       "      <td>0.164291</td>\n",
       "      <td>0.984337</td>\n",
       "      <td>0.091271</td>\n",
       "    </tr>\n",
       "    <tr>\n",
       "      <th>ta</th>\n",
       "      <td>0.982715</td>\n",
       "      <td>1.000000</td>\n",
       "      <td>-0.047209</td>\n",
       "      <td>0.862078</td>\n",
       "      <td>0.193629</td>\n",
       "      <td>0.394838</td>\n",
       "      <td>0.142490</td>\n",
       "      <td>0.996091</td>\n",
       "      <td>0.101281</td>\n",
       "    </tr>\n",
       "    <tr>\n",
       "      <th>rh</th>\n",
       "      <td>0.068216</td>\n",
       "      <td>-0.047209</td>\n",
       "      <td>1.000000</td>\n",
       "      <td>0.457707</td>\n",
       "      <td>-0.205036</td>\n",
       "      <td>-0.499888</td>\n",
       "      <td>0.324869</td>\n",
       "      <td>-0.008428</td>\n",
       "      <td>-0.041213</td>\n",
       "    </tr>\n",
       "    <tr>\n",
       "      <th>td</th>\n",
       "      <td>0.905574</td>\n",
       "      <td>0.862078</td>\n",
       "      <td>0.457707</td>\n",
       "      <td>1.000000</td>\n",
       "      <td>0.067286</td>\n",
       "      <td>0.092136</td>\n",
       "      <td>0.287356</td>\n",
       "      <td>0.879639</td>\n",
       "      <td>0.068816</td>\n",
       "    </tr>\n",
       "    <tr>\n",
       "      <th>speed2m</th>\n",
       "      <td>0.168378</td>\n",
       "      <td>0.193629</td>\n",
       "      <td>-0.205036</td>\n",
       "      <td>0.067286</td>\n",
       "      <td>1.000000</td>\n",
       "      <td>0.272665</td>\n",
       "      <td>0.168646</td>\n",
       "      <td>0.183573</td>\n",
       "      <td>0.032733</td>\n",
       "    </tr>\n",
       "    <tr>\n",
       "      <th>solar</th>\n",
       "      <td>0.416543</td>\n",
       "      <td>0.394838</td>\n",
       "      <td>-0.499888</td>\n",
       "      <td>0.092136</td>\n",
       "      <td>0.272665</td>\n",
       "      <td>1.000000</td>\n",
       "      <td>-0.201152</td>\n",
       "      <td>0.385474</td>\n",
       "      <td>0.065604</td>\n",
       "    </tr>\n",
       "    <tr>\n",
       "      <th>cloudcover</th>\n",
       "      <td>0.164291</td>\n",
       "      <td>0.142490</td>\n",
       "      <td>0.324869</td>\n",
       "      <td>0.287356</td>\n",
       "      <td>0.168646</td>\n",
       "      <td>-0.201152</td>\n",
       "      <td>1.000000</td>\n",
       "      <td>0.152490</td>\n",
       "      <td>0.008357</td>\n",
       "    </tr>\n",
       "    <tr>\n",
       "      <th>hi</th>\n",
       "      <td>0.984337</td>\n",
       "      <td>0.996091</td>\n",
       "      <td>-0.008428</td>\n",
       "      <td>0.879639</td>\n",
       "      <td>0.183573</td>\n",
       "      <td>0.385474</td>\n",
       "      <td>0.152490</td>\n",
       "      <td>1.000000</td>\n",
       "      <td>0.115770</td>\n",
       "    </tr>\n",
       "    <tr>\n",
       "      <th>Heat</th>\n",
       "      <td>0.091271</td>\n",
       "      <td>0.101281</td>\n",
       "      <td>-0.041213</td>\n",
       "      <td>0.068816</td>\n",
       "      <td>0.032733</td>\n",
       "      <td>0.065604</td>\n",
       "      <td>0.008357</td>\n",
       "      <td>0.115770</td>\n",
       "      <td>1.000000</td>\n",
       "    </tr>\n",
       "  </tbody>\n",
       "</table>\n",
       "</div>"
      ],
      "text/plain": [
       "                wbgt        ta        rh        td   speed2m     solar  \\\n",
       "wbgt        1.000000  0.982715  0.068216  0.905574  0.168378  0.416543   \n",
       "ta          0.982715  1.000000 -0.047209  0.862078  0.193629  0.394838   \n",
       "rh          0.068216 -0.047209  1.000000  0.457707 -0.205036 -0.499888   \n",
       "td          0.905574  0.862078  0.457707  1.000000  0.067286  0.092136   \n",
       "speed2m     0.168378  0.193629 -0.205036  0.067286  1.000000  0.272665   \n",
       "solar       0.416543  0.394838 -0.499888  0.092136  0.272665  1.000000   \n",
       "cloudcover  0.164291  0.142490  0.324869  0.287356  0.168646 -0.201152   \n",
       "hi          0.984337  0.996091 -0.008428  0.879639  0.183573  0.385474   \n",
       "Heat        0.091271  0.101281 -0.041213  0.068816  0.032733  0.065604   \n",
       "\n",
       "            cloudcover        hi      Heat  \n",
       "wbgt          0.164291  0.984337  0.091271  \n",
       "ta            0.142490  0.996091  0.101281  \n",
       "rh            0.324869 -0.008428 -0.041213  \n",
       "td            0.287356  0.879639  0.068816  \n",
       "speed2m       0.168646  0.183573  0.032733  \n",
       "solar        -0.201152  0.385474  0.065604  \n",
       "cloudcover    1.000000  0.152490  0.008357  \n",
       "hi            0.152490  1.000000  0.115770  \n",
       "Heat          0.008357  0.115770  1.000000  "
      ]
     },
     "execution_count": 15,
     "metadata": {},
     "output_type": "execute_result"
    }
   ],
   "source": [
    "corr"
   ]
  },
  {
   "cell_type": "code",
   "execution_count": 16,
   "id": "3228bf05-7b69-47f2-9244-b99d43991ccb",
   "metadata": {},
   "outputs": [
    {
     "data": {
      "image/png": "[encoded data removed]",
      "text/plain": [
       "<Figure size 432x288 with 1 Axes>"
      ]
     },
     "metadata": {
      "needs_background": "light"
     },
     "output_type": "display_data"
    }
   ],
   "source": [
    "sns.boxplot(data=full_data.loc[full_data.solar != 0, :], x=\"Heat\", y=\"solar\")\n",
    "plt.show()"
   ]
  },
  {
   "cell_type": "code",
   "execution_count": 17,
   "id": "605d6b9d-fbf5-4640-aaf9-d074bb0b4f88",
   "metadata": {},
   "outputs": [
    {
     "data": {
      "image/png": "[encoded data removed]",
      "text/plain": [
       "<Figure size 432x288 with 1 Axes>"
      ]
     },
     "metadata": {
      "needs_background": "light"
     },
     "output_type": "display_data"
    }
   ],
   "source": [
    "sns.boxplot(data=full_data, x=\"Heat\", y=\"rh\")\n",
    "plt.show()"
   ]
  },
  {
   "cell_type": "code",
   "execution_count": 18,
   "id": "1ec02429-60ba-45fa-bd82-31d081dc554d",
   "metadata": {},
   "outputs": [
    {
     "data": {
      "image/png": "[encoded data removed]",
      "text/plain": [
       "<Figure size 432x288 with 1 Axes>"
      ]
     },
     "metadata": {
      "needs_background": "light"
     },
     "output_type": "display_data"
    }
   ],
   "source": [
    "sns.boxplot(data=full_data, x=\"Heat\", y=\"speed2m\")\n",
    "plt.show()"
   ]
  },
  {
   "cell_type": "code",
   "execution_count": 19,
   "id": "194a37db-d14d-4b27-b855-e4ac494eb884",
   "metadata": {},
   "outputs": [
    {
     "data": {
      "image/png": "[encoded data removed]",
      "text/plain": [
       "<Figure size 432x288 with 1 Axes>"
      ]
     },
     "metadata": {
      "needs_background": "light"
     },
     "output_type": "display_data"
    }
   ],
   "source": [
    "sns.boxplot(data=full_data, x=\"Heat\", y=\"hi\")\n",
    "plt.show()"
   ]
  },
  {
   "cell_type": "code",
   "execution_count": 20,
   "id": "8a2df032-4b90-44f2-bd4a-edd08002fcfb",
   "metadata": {},
   "outputs": [],
   "source": [
    "EH_Conditions = [\n",
    "    (full_data['hi'] < 80),\n",
    "    (full_data['hi'] >= 80) & (full_data['hi'] < 90),\n",
    "    (full_data['hi'] >= 90) & (full_data['hi'] < 103),\n",
    "    (full_data['hi'] >= 103) & (full_data['hi'] < 124),\n",
    "    (full_data['hi'] >= 124)\n",
    "]\n",
    "\n",
    "EH_Categories = ['None','Caution', 'Extreme Caution', 'Danger', 'Extreme Danger']\n",
    "\n",
    "full_data['EH'] = np.select(EH_Conditions, EH_Categories)"
   ]
  },
  {
   "cell_type": "code",
   "execution_count": 21,
   "id": "9f3d3a72-de4a-4717-b8a5-5677815ef187",
   "metadata": {},
   "outputs": [
    {
     "data": {
      "image/png": "[encoded data removed]",
      "text/plain": [
       "<Figure size 432x288 with 1 Axes>"
      ]
     },
     "metadata": {
      "needs_background": "light"
     },
     "output_type": "display_data"
    }
   ],
   "source": [
    "full_data.loc[full_data.EH != \"None\",:].groupby(['EH', 'Heat']).size().unstack().plot(kind='bar', stacked=True)\n",
    "plt.show()"
   ]
  },
  {
   "cell_type": "code",
   "execution_count": null,
   "id": "497314d4-4312-446c-bd5d-8030845845e4",
   "metadata": {},
   "outputs": [],
   "source": []
  }
 ],
 "metadata": {
  "kernelspec": {
   "display_name": "Python 3 (ipykernel)",
   "language": "python",
   "name": "python3"
  },
  "language_info": {
   "codemirror_mode": {
    "name": "ipython",
    "version": 3
   },
   "file_extension": ".py",
   "mimetype": "text/x-python",
   "name": "python",
   "nbconvert_exporter": "python",
   "pygments_lexer": "ipython3",
   "version": "3.9.7"
  }
 },
 "nbformat": 4,
 "nbformat_minor": 5
}
